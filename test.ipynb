{
 "cells": [
  {
   "cell_type": "code",
   "execution_count": 2,
   "id": "a09e7ae4",
   "metadata": {},
   "outputs": [],
   "source": [
    "import pandas as pd\n",
    "from config import MINIO_ENDPOINT, MINIO_ACCESS, MINIO_SECRET, MINIO_BUCKET\n"
   ]
  },
  {
   "cell_type": "code",
   "execution_count": 3,
   "id": "784c224f",
   "metadata": {},
   "outputs": [],
   "source": [
    "STORAGE_OPTIONS = {\n",
    "    \"key\": MINIO_ACCESS,\n",
    "    \"secret\": MINIO_SECRET,\n",
    "    \"client_kwargs\": {\"endpoint_url\": MINIO_ENDPOINT},\n",
    "}"
   ]
  },
  {
   "cell_type": "code",
   "execution_count": 4,
   "id": "34cde5e2",
   "metadata": {},
   "outputs": [],
   "source": [
    "df_orders = pd.read_csv(\n",
    "    f\"s3://{MINIO_BUCKET}/raw/olist_orders_dataset.csv\",\n",
    "    storage_options=STORAGE_OPTIONS\n",
    ")"
   ]
  },
  {
   "cell_type": "code",
   "execution_count": 5,
   "id": "1c42b4f9",
   "metadata": {},
   "outputs": [
    {
     "data": {
      "text/html": [
       "<div>\n",
       "<style scoped>\n",
       "    .dataframe tbody tr th:only-of-type {\n",
       "        vertical-align: middle;\n",
       "    }\n",
       "\n",
       "    .dataframe tbody tr th {\n",
       "        vertical-align: top;\n",
       "    }\n",
       "\n",
       "    .dataframe thead th {\n",
       "        text-align: right;\n",
       "    }\n",
       "</style>\n",
       "<table border=\"1\" class=\"dataframe\">\n",
       "  <thead>\n",
       "    <tr style=\"text-align: right;\">\n",
       "      <th></th>\n",
       "      <th>order_id</th>\n",
       "      <th>customer_id</th>\n",
       "      <th>order_status</th>\n",
       "      <th>order_purchase_timestamp</th>\n",
       "      <th>order_approved_at</th>\n",
       "      <th>order_delivered_carrier_date</th>\n",
       "      <th>order_delivered_customer_date</th>\n",
       "      <th>order_estimated_delivery_date</th>\n",
       "    </tr>\n",
       "  </thead>\n",
       "  <tbody>\n",
       "    <tr>\n",
       "      <th>0</th>\n",
       "      <td>e481f51cbdc54678b7cc49136f2d6af7</td>\n",
       "      <td>9ef432eb6251297304e76186b10a928d</td>\n",
       "      <td>delivered</td>\n",
       "      <td>2017-10-02 10:56:33</td>\n",
       "      <td>2017-10-02 11:07:15</td>\n",
       "      <td>2017-10-04 19:55:00</td>\n",
       "      <td>2017-10-10 21:25:13</td>\n",
       "      <td>2017-10-18 00:00:00</td>\n",
       "    </tr>\n",
       "    <tr>\n",
       "      <th>1</th>\n",
       "      <td>53cdb2fc8bc7dce0b6741e2150273451</td>\n",
       "      <td>b0830fb4747a6c6d20dea0b8c802d7ef</td>\n",
       "      <td>delivered</td>\n",
       "      <td>2018-07-24 20:41:37</td>\n",
       "      <td>2018-07-26 03:24:27</td>\n",
       "      <td>2018-07-26 14:31:00</td>\n",
       "      <td>2018-08-07 15:27:45</td>\n",
       "      <td>2018-08-13 00:00:00</td>\n",
       "    </tr>\n",
       "    <tr>\n",
       "      <th>2</th>\n",
       "      <td>47770eb9100c2d0c44946d9cf07ec65d</td>\n",
       "      <td>41ce2a54c0b03bf3443c3d931a367089</td>\n",
       "      <td>delivered</td>\n",
       "      <td>2018-08-08 08:38:49</td>\n",
       "      <td>2018-08-08 08:55:23</td>\n",
       "      <td>2018-08-08 13:50:00</td>\n",
       "      <td>2018-08-17 18:06:29</td>\n",
       "      <td>2018-09-04 00:00:00</td>\n",
       "    </tr>\n",
       "    <tr>\n",
       "      <th>3</th>\n",
       "      <td>949d5b44dbf5de918fe9c16f97b45f8a</td>\n",
       "      <td>f88197465ea7920adcdbec7375364d82</td>\n",
       "      <td>delivered</td>\n",
       "      <td>2017-11-18 19:28:06</td>\n",
       "      <td>2017-11-18 19:45:59</td>\n",
       "      <td>2017-11-22 13:39:59</td>\n",
       "      <td>2017-12-02 00:28:42</td>\n",
       "      <td>2017-12-15 00:00:00</td>\n",
       "    </tr>\n",
       "    <tr>\n",
       "      <th>4</th>\n",
       "      <td>ad21c59c0840e6cb83a9ceb5573f8159</td>\n",
       "      <td>8ab97904e6daea8866dbdbc4fb7aad2c</td>\n",
       "      <td>delivered</td>\n",
       "      <td>2018-02-13 21:18:39</td>\n",
       "      <td>2018-02-13 22:20:29</td>\n",
       "      <td>2018-02-14 19:46:34</td>\n",
       "      <td>2018-02-16 18:17:02</td>\n",
       "      <td>2018-02-26 00:00:00</td>\n",
       "    </tr>\n",
       "  </tbody>\n",
       "</table>\n",
       "</div>"
      ],
      "text/plain": [
       "                           order_id                       customer_id  \\\n",
       "0  e481f51cbdc54678b7cc49136f2d6af7  9ef432eb6251297304e76186b10a928d   \n",
       "1  53cdb2fc8bc7dce0b6741e2150273451  b0830fb4747a6c6d20dea0b8c802d7ef   \n",
       "2  47770eb9100c2d0c44946d9cf07ec65d  41ce2a54c0b03bf3443c3d931a367089   \n",
       "3  949d5b44dbf5de918fe9c16f97b45f8a  f88197465ea7920adcdbec7375364d82   \n",
       "4  ad21c59c0840e6cb83a9ceb5573f8159  8ab97904e6daea8866dbdbc4fb7aad2c   \n",
       "\n",
       "  order_status order_purchase_timestamp    order_approved_at  \\\n",
       "0    delivered      2017-10-02 10:56:33  2017-10-02 11:07:15   \n",
       "1    delivered      2018-07-24 20:41:37  2018-07-26 03:24:27   \n",
       "2    delivered      2018-08-08 08:38:49  2018-08-08 08:55:23   \n",
       "3    delivered      2017-11-18 19:28:06  2017-11-18 19:45:59   \n",
       "4    delivered      2018-02-13 21:18:39  2018-02-13 22:20:29   \n",
       "\n",
       "  order_delivered_carrier_date order_delivered_customer_date  \\\n",
       "0          2017-10-04 19:55:00           2017-10-10 21:25:13   \n",
       "1          2018-07-26 14:31:00           2018-08-07 15:27:45   \n",
       "2          2018-08-08 13:50:00           2018-08-17 18:06:29   \n",
       "3          2017-11-22 13:39:59           2017-12-02 00:28:42   \n",
       "4          2018-02-14 19:46:34           2018-02-16 18:17:02   \n",
       "\n",
       "  order_estimated_delivery_date  \n",
       "0           2017-10-18 00:00:00  \n",
       "1           2018-08-13 00:00:00  \n",
       "2           2018-09-04 00:00:00  \n",
       "3           2017-12-15 00:00:00  \n",
       "4           2018-02-26 00:00:00  "
      ]
     },
     "execution_count": 5,
     "metadata": {},
     "output_type": "execute_result"
    }
   ],
   "source": [
    "df_orders.head()"
   ]
  },
  {
   "cell_type": "code",
   "execution_count": 6,
   "id": "0ce22a4f",
   "metadata": {},
   "outputs": [
    {
     "data": {
      "text/plain": [
       "order_id                         object\n",
       "customer_id                      object\n",
       "order_status                     object\n",
       "order_purchase_timestamp         object\n",
       "order_approved_at                object\n",
       "order_delivered_carrier_date     object\n",
       "order_delivered_customer_date    object\n",
       "order_estimated_delivery_date    object\n",
       "dtype: object"
      ]
     },
     "execution_count": 6,
     "metadata": {},
     "output_type": "execute_result"
    }
   ],
   "source": [
    "df_orders.dtypes\n"
   ]
  },
  {
   "cell_type": "code",
   "execution_count": 7,
   "id": "400dfdd6",
   "metadata": {},
   "outputs": [
    {
     "data": {
      "text/plain": [
       "order_purchase_timestamp         object\n",
       "order_approved_at                object\n",
       "order_delivered_carrier_date     object\n",
       "order_delivered_customer_date    object\n",
       "order_estimated_delivery_date    object\n",
       "dtype: object"
      ]
     },
     "execution_count": 7,
     "metadata": {},
     "output_type": "execute_result"
    }
   ],
   "source": [
    "df_orders[[\n",
    "    \"order_purchase_timestamp\",\n",
    "    \"order_approved_at\",\n",
    "    \"order_delivered_carrier_date\",\n",
    "    \"order_delivered_customer_date\",\n",
    "    \"order_estimated_delivery_date\"\n",
    "]].dtypes"
   ]
  },
  {
   "cell_type": "code",
   "execution_count": 8,
   "id": "e8de3790",
   "metadata": {},
   "outputs": [
    {
     "data": {
      "text/plain": [
       "array(['delivered', 'invoiced', 'shipped', 'processing', 'unavailable',\n",
       "       'canceled', 'created', 'approved'], dtype=object)"
      ]
     },
     "execution_count": 8,
     "metadata": {},
     "output_type": "execute_result"
    }
   ],
   "source": [
    "df_orders[\"order_status\"].unique()"
   ]
  },
  {
   "cell_type": "code",
   "execution_count": 9,
   "id": "5fa98b06",
   "metadata": {},
   "outputs": [
    {
     "data": {
      "text/plain": [
       "order_status\n",
       "delivered      96478\n",
       "shipped         1107\n",
       "canceled         625\n",
       "unavailable      609\n",
       "invoiced         314\n",
       "processing       301\n",
       "created            5\n",
       "approved           2\n",
       "Name: count, dtype: int64"
      ]
     },
     "execution_count": 9,
     "metadata": {},
     "output_type": "execute_result"
    }
   ],
   "source": [
    "df_orders[\"order_status\"].value_counts()"
   ]
  },
  {
   "cell_type": "code",
   "execution_count": 54,
   "id": "fa1d338f",
   "metadata": {},
   "outputs": [],
   "source": [
    "def clean_orders():\n",
    "    df = pd.read_csv(\n",
    "        f\"s3://{MINIO_BUCKET}/raw/olist_orders_dataset.csv\",\n",
    "        storage_options=STORAGE_OPTIONS\n",
    "    )\n",
    "\n",
    "    # 1. ep kieu datetime\n",
    "    date_cols = [\n",
    "        \"order_purchase_timestamp\",\n",
    "        \"order_approved_at\",\n",
    "        \"order_delivered_carrier_date\",\n",
    "        \"order_delivered_customer_date\",\n",
    "        \"order_estimated_delivery_date\",\n",
    "    ]\n",
    "    for col in date_cols:\n",
    "        df[col] = pd.to_datetime(df[col], errors=\"coerce\", utc=True)\n",
    "\n",
    "    # 2. them vung (partition) date\n",
    "    df[\"order_purchase_date\"] = df[\"order_purchase_timestamp\"].dt.date\n",
    "\n",
    "    # 3. rang buoc order_status\n",
    "    status_map = {\n",
    "        \"delivered\": \"delivered\",\n",
    "        \"shipped\": \"shipped\",\n",
    "        \"canceled\": \"canceled\",\n",
    "        \"unavailable\": \"canceled\",  \n",
    "        \"invoiced\": \"approved\",   \n",
    "        \"processing\": \"created\",    \n",
    "        \"created\": \"created\",\n",
    "        \"approved\": \"approved\",\n",
    "    }\n",
    "    df[\"order_status\"] = df[\"order_status\"].map(status_map).fillna(\"invalid\")\n",
    "\n",
    "    # status_flag: 1 hợp lệ, 0 invalid\n",
    "    df[\"status_flag\"] = df[\"order_status\"].apply(lambda x: 0 if x == \"invalid\" else 1)\n",
    "\n",
    "    # 4. logic thoi gian\n",
    "    def check_time(row):\n",
    "        try:\n",
    "            if pd.isna(row[\"order_purchase_timestamp\"]):\n",
    "                return 1\n",
    "            if pd.notna(row[\"order_approved_at\"]) and row[\"order_purchase_timestamp\"] > row[\"order_approved_at\"]:\n",
    "                return 1\n",
    "            if pd.notna(row[\"order_delivered_carrier_date\"]) and row[\"order_approved_at\"] and row[\"order_approved_at\"] > row[\"order_delivered_carrier_date\"]:\n",
    "                return 1\n",
    "            if pd.notna(row[\"order_delivered_customer_date\"]) and row[\"order_delivered_carrier_date\"] and row[\"order_delivered_carrier_date\"] > row[\"order_delivered_customer_date\"]:\n",
    "                return 1\n",
    "            if pd.notna(row[\"order_estimated_delivery_date\"]) and row[\"order_delivered_customer_date\"] and row[\"order_delivered_customer_date\"] > row[\"order_estimated_delivery_date\"]:\n",
    "                return 1\n",
    "            return 0\n",
    "        except:\n",
    "            return 1\n",
    "\n",
    "    df[\"time_anomaly\"] = df.apply(check_time, axis=1)\n",
    "\n",
    "    #flag đã giao\n",
    "    df[\"delivered_flag\"] = df[\"order_delivered_customer_date\"].apply(lambda x: 1 if pd.notna(x) else 0)\n",
    "    \n",
    "    # 5. dam bao order_id duy nhat\n",
    "    df = df.sort_values(\"order_purchase_timestamp\").drop_duplicates(subset=[\"order_id\"], keep=\"last\")\n",
    "\n",
    "    # save parquet → silver\n",
    "    df.to_parquet(\n",
    "        f\"s3://{MINIO_BUCKET}/silver/orders.parquet\",\n",
    "        index=False,\n",
    "        storage_options=STORAGE_OPTIONS\n",
    "    )\n",
    "    print(f\"Orders cleaned: {df.shape[0]} rows → silver/\")\n",
    "\n",
    "    return df.head()\n"
   ]
  },
  {
   "cell_type": "code",
   "execution_count": 55,
   "id": "18572a14",
   "metadata": {},
   "outputs": [
    {
     "name": "stdout",
     "output_type": "stream",
     "text": [
      "Orders cleaned: 99441 rows → silver/\n"
     ]
    },
    {
     "data": {
      "text/html": [
       "<div>\n",
       "<style scoped>\n",
       "    .dataframe tbody tr th:only-of-type {\n",
       "        vertical-align: middle;\n",
       "    }\n",
       "\n",
       "    .dataframe tbody tr th {\n",
       "        vertical-align: top;\n",
       "    }\n",
       "\n",
       "    .dataframe thead th {\n",
       "        text-align: right;\n",
       "    }\n",
       "</style>\n",
       "<table border=\"1\" class=\"dataframe\">\n",
       "  <thead>\n",
       "    <tr style=\"text-align: right;\">\n",
       "      <th></th>\n",
       "      <th>order_id</th>\n",
       "      <th>customer_id</th>\n",
       "      <th>order_status</th>\n",
       "      <th>order_purchase_timestamp</th>\n",
       "      <th>order_approved_at</th>\n",
       "      <th>order_delivered_carrier_date</th>\n",
       "      <th>order_delivered_customer_date</th>\n",
       "      <th>order_estimated_delivery_date</th>\n",
       "      <th>order_purchase_date</th>\n",
       "      <th>status_flag</th>\n",
       "      <th>time_anomaly</th>\n",
       "      <th>delivered_flag</th>\n",
       "    </tr>\n",
       "  </thead>\n",
       "  <tbody>\n",
       "    <tr>\n",
       "      <th>4541</th>\n",
       "      <td>2e7a8482f6fb09756ca50c10d7bfc047</td>\n",
       "      <td>08c5351a6aca1c1589a38f244edeee9d</td>\n",
       "      <td>shipped</td>\n",
       "      <td>2016-09-04 21:15:19+00:00</td>\n",
       "      <td>2016-10-07 13:18:03+00:00</td>\n",
       "      <td>2016-10-18 13:14:51+00:00</td>\n",
       "      <td>NaT</td>\n",
       "      <td>2016-10-20 00:00:00+00:00</td>\n",
       "      <td>2016-09-04</td>\n",
       "      <td>1</td>\n",
       "      <td>0</td>\n",
       "      <td>0</td>\n",
       "    </tr>\n",
       "    <tr>\n",
       "      <th>4396</th>\n",
       "      <td>e5fa5a7210941f7d56d0208e4e071d35</td>\n",
       "      <td>683c54fc24d40ee9f8a6fc179fd9856c</td>\n",
       "      <td>canceled</td>\n",
       "      <td>2016-09-05 00:15:34+00:00</td>\n",
       "      <td>2016-10-07 13:17:15+00:00</td>\n",
       "      <td>NaT</td>\n",
       "      <td>NaT</td>\n",
       "      <td>2016-10-28 00:00:00+00:00</td>\n",
       "      <td>2016-09-05</td>\n",
       "      <td>1</td>\n",
       "      <td>0</td>\n",
       "      <td>0</td>\n",
       "    </tr>\n",
       "    <tr>\n",
       "      <th>10071</th>\n",
       "      <td>809a282bbd5dbcabb6f2f724fca862ec</td>\n",
       "      <td>622e13439d6b5a0b486c435618b2679e</td>\n",
       "      <td>canceled</td>\n",
       "      <td>2016-09-13 15:24:19+00:00</td>\n",
       "      <td>2016-10-07 13:16:46+00:00</td>\n",
       "      <td>NaT</td>\n",
       "      <td>NaT</td>\n",
       "      <td>2016-09-30 00:00:00+00:00</td>\n",
       "      <td>2016-09-13</td>\n",
       "      <td>1</td>\n",
       "      <td>0</td>\n",
       "      <td>0</td>\n",
       "    </tr>\n",
       "    <tr>\n",
       "      <th>30710</th>\n",
       "      <td>bfbd0f9bdef84302105ad712db648a6c</td>\n",
       "      <td>86dc2ffce2dfff336de2f386a786e574</td>\n",
       "      <td>delivered</td>\n",
       "      <td>2016-09-15 12:16:38+00:00</td>\n",
       "      <td>2016-09-15 12:16:38+00:00</td>\n",
       "      <td>2016-11-07 17:11:53+00:00</td>\n",
       "      <td>2016-11-09 07:47:38+00:00</td>\n",
       "      <td>2016-10-04 00:00:00+00:00</td>\n",
       "      <td>2016-09-15</td>\n",
       "      <td>1</td>\n",
       "      <td>1</td>\n",
       "      <td>1</td>\n",
       "    </tr>\n",
       "    <tr>\n",
       "      <th>83078</th>\n",
       "      <td>71303d7e93b399f5bcd537d124c0bcfa</td>\n",
       "      <td>b106b360fe2ef8849fbbd056f777b4d5</td>\n",
       "      <td>canceled</td>\n",
       "      <td>2016-10-02 22:07:52+00:00</td>\n",
       "      <td>2016-10-06 15:50:56+00:00</td>\n",
       "      <td>NaT</td>\n",
       "      <td>NaT</td>\n",
       "      <td>2016-10-25 00:00:00+00:00</td>\n",
       "      <td>2016-10-02</td>\n",
       "      <td>1</td>\n",
       "      <td>0</td>\n",
       "      <td>0</td>\n",
       "    </tr>\n",
       "  </tbody>\n",
       "</table>\n",
       "</div>"
      ],
      "text/plain": [
       "                               order_id                       customer_id  \\\n",
       "4541   2e7a8482f6fb09756ca50c10d7bfc047  08c5351a6aca1c1589a38f244edeee9d   \n",
       "4396   e5fa5a7210941f7d56d0208e4e071d35  683c54fc24d40ee9f8a6fc179fd9856c   \n",
       "10071  809a282bbd5dbcabb6f2f724fca862ec  622e13439d6b5a0b486c435618b2679e   \n",
       "30710  bfbd0f9bdef84302105ad712db648a6c  86dc2ffce2dfff336de2f386a786e574   \n",
       "83078  71303d7e93b399f5bcd537d124c0bcfa  b106b360fe2ef8849fbbd056f777b4d5   \n",
       "\n",
       "      order_status  order_purchase_timestamp         order_approved_at  \\\n",
       "4541       shipped 2016-09-04 21:15:19+00:00 2016-10-07 13:18:03+00:00   \n",
       "4396      canceled 2016-09-05 00:15:34+00:00 2016-10-07 13:17:15+00:00   \n",
       "10071     canceled 2016-09-13 15:24:19+00:00 2016-10-07 13:16:46+00:00   \n",
       "30710    delivered 2016-09-15 12:16:38+00:00 2016-09-15 12:16:38+00:00   \n",
       "83078     canceled 2016-10-02 22:07:52+00:00 2016-10-06 15:50:56+00:00   \n",
       "\n",
       "      order_delivered_carrier_date order_delivered_customer_date  \\\n",
       "4541     2016-10-18 13:14:51+00:00                           NaT   \n",
       "4396                           NaT                           NaT   \n",
       "10071                          NaT                           NaT   \n",
       "30710    2016-11-07 17:11:53+00:00     2016-11-09 07:47:38+00:00   \n",
       "83078                          NaT                           NaT   \n",
       "\n",
       "      order_estimated_delivery_date order_purchase_date  status_flag  \\\n",
       "4541      2016-10-20 00:00:00+00:00          2016-09-04            1   \n",
       "4396      2016-10-28 00:00:00+00:00          2016-09-05            1   \n",
       "10071     2016-09-30 00:00:00+00:00          2016-09-13            1   \n",
       "30710     2016-10-04 00:00:00+00:00          2016-09-15            1   \n",
       "83078     2016-10-25 00:00:00+00:00          2016-10-02            1   \n",
       "\n",
       "       time_anomaly  delivered_flag  \n",
       "4541              0               0  \n",
       "4396              0               0  \n",
       "10071             0               0  \n",
       "30710             1               1  \n",
       "83078             0               0  "
      ]
     },
     "execution_count": 55,
     "metadata": {},
     "output_type": "execute_result"
    }
   ],
   "source": [
    "clean_orders()"
   ]
  },
  {
   "cell_type": "code",
   "execution_count": 87,
   "id": "e0dcb4f5",
   "metadata": {},
   "outputs": [],
   "source": [
    "df_customers = pd.read_csv(\n",
    "        f\"s3://{MINIO_BUCKET}/raw/olist_customers_dataset.csv\",\n",
    "        storage_options=STORAGE_OPTIONS\n",
    "    )\n"
   ]
  },
  {
   "cell_type": "code",
   "execution_count": 19,
   "id": "0a4c7461",
   "metadata": {},
   "outputs": [
    {
     "data": {
      "text/html": [
       "<div>\n",
       "<style scoped>\n",
       "    .dataframe tbody tr th:only-of-type {\n",
       "        vertical-align: middle;\n",
       "    }\n",
       "\n",
       "    .dataframe tbody tr th {\n",
       "        vertical-align: top;\n",
       "    }\n",
       "\n",
       "    .dataframe thead th {\n",
       "        text-align: right;\n",
       "    }\n",
       "</style>\n",
       "<table border=\"1\" class=\"dataframe\">\n",
       "  <thead>\n",
       "    <tr style=\"text-align: right;\">\n",
       "      <th></th>\n",
       "      <th>customer_id</th>\n",
       "      <th>customer_unique_id</th>\n",
       "      <th>customer_zip_code_prefix</th>\n",
       "      <th>customer_city</th>\n",
       "      <th>customer_state</th>\n",
       "    </tr>\n",
       "  </thead>\n",
       "  <tbody>\n",
       "    <tr>\n",
       "      <th>0</th>\n",
       "      <td>06b8999e2fba1a1fbc88172c00ba8bc7</td>\n",
       "      <td>861eff4711a542e4b93843c6dd7febb0</td>\n",
       "      <td>14409</td>\n",
       "      <td>franca</td>\n",
       "      <td>SP</td>\n",
       "    </tr>\n",
       "    <tr>\n",
       "      <th>1</th>\n",
       "      <td>18955e83d337fd6b2def6b18a428ac77</td>\n",
       "      <td>290c77bc529b7ac935b93aa66c333dc3</td>\n",
       "      <td>9790</td>\n",
       "      <td>sao bernardo do campo</td>\n",
       "      <td>SP</td>\n",
       "    </tr>\n",
       "    <tr>\n",
       "      <th>2</th>\n",
       "      <td>4e7b3e00288586ebd08712fdd0374a03</td>\n",
       "      <td>060e732b5b29e8181a18229c7b0b2b5e</td>\n",
       "      <td>1151</td>\n",
       "      <td>sao paulo</td>\n",
       "      <td>SP</td>\n",
       "    </tr>\n",
       "    <tr>\n",
       "      <th>3</th>\n",
       "      <td>b2b6027bc5c5109e529d4dc6358b12c3</td>\n",
       "      <td>259dac757896d24d7702b9acbbff3f3c</td>\n",
       "      <td>8775</td>\n",
       "      <td>mogi das cruzes</td>\n",
       "      <td>SP</td>\n",
       "    </tr>\n",
       "    <tr>\n",
       "      <th>4</th>\n",
       "      <td>4f2d8ab171c80ec8364f7c12e35b23ad</td>\n",
       "      <td>345ecd01c38d18a9036ed96c73b8d066</td>\n",
       "      <td>13056</td>\n",
       "      <td>campinas</td>\n",
       "      <td>SP</td>\n",
       "    </tr>\n",
       "  </tbody>\n",
       "</table>\n",
       "</div>"
      ],
      "text/plain": [
       "                        customer_id                customer_unique_id  \\\n",
       "0  06b8999e2fba1a1fbc88172c00ba8bc7  861eff4711a542e4b93843c6dd7febb0   \n",
       "1  18955e83d337fd6b2def6b18a428ac77  290c77bc529b7ac935b93aa66c333dc3   \n",
       "2  4e7b3e00288586ebd08712fdd0374a03  060e732b5b29e8181a18229c7b0b2b5e   \n",
       "3  b2b6027bc5c5109e529d4dc6358b12c3  259dac757896d24d7702b9acbbff3f3c   \n",
       "4  4f2d8ab171c80ec8364f7c12e35b23ad  345ecd01c38d18a9036ed96c73b8d066   \n",
       "\n",
       "   customer_zip_code_prefix          customer_city customer_state  \n",
       "0                     14409                 franca             SP  \n",
       "1                      9790  sao bernardo do campo             SP  \n",
       "2                      1151              sao paulo             SP  \n",
       "3                      8775        mogi das cruzes             SP  \n",
       "4                     13056               campinas             SP  "
      ]
     },
     "execution_count": 19,
     "metadata": {},
     "output_type": "execute_result"
    }
   ],
   "source": [
    "df_customers.head()"
   ]
  },
  {
   "cell_type": "code",
   "execution_count": 20,
   "id": "3d50ab6b",
   "metadata": {},
   "outputs": [
    {
     "name": "stdout",
     "output_type": "stream",
     "text": [
      "<class 'pandas.core.frame.DataFrame'>\n",
      "RangeIndex: 99441 entries, 0 to 99440\n",
      "Data columns (total 5 columns):\n",
      " #   Column                    Non-Null Count  Dtype \n",
      "---  ------                    --------------  ----- \n",
      " 0   customer_id               99441 non-null  object\n",
      " 1   customer_unique_id        99441 non-null  object\n",
      " 2   customer_zip_code_prefix  99441 non-null  int64 \n",
      " 3   customer_city             99441 non-null  object\n",
      " 4   customer_state            99441 non-null  object\n",
      "dtypes: int64(1), object(4)\n",
      "memory usage: 3.8+ MB\n"
     ]
    }
   ],
   "source": [
    "df_customers.info()\n",
    "\n"
   ]
  },
  {
   "cell_type": "code",
   "execution_count": 24,
   "id": "872815fd",
   "metadata": {},
   "outputs": [
    {
     "data": {
      "text/plain": [
       "np.int64(3345)"
      ]
     },
     "execution_count": 24,
     "metadata": {},
     "output_type": "execute_result"
    }
   ],
   "source": [
    "df_customers[\"customer_unique_id\"].duplicated().sum()"
   ]
  },
  {
   "cell_type": "code",
   "execution_count": 21,
   "id": "574b53ce",
   "metadata": {},
   "outputs": [
    {
     "name": "stdout",
     "output_type": "stream",
     "text": [
      "['SP' 'SC' 'MG' 'PR' 'RJ' 'RS' 'PA' 'GO' 'ES' 'BA' 'MA' 'MS' 'CE' 'DF'\n",
      " 'RN' 'PE' 'MT' 'AM' 'AP' 'AL' 'RO' 'PB' 'TO' 'PI' 'AC' 'SE' 'RR']\n"
     ]
    }
   ],
   "source": [
    "print(df_customers[\"customer_state\"].unique())\n"
   ]
  },
  {
   "cell_type": "code",
   "execution_count": 56,
   "id": "984c88ac",
   "metadata": {},
   "outputs": [],
   "source": [
    "def clean_customers():\n",
    "    # 1. Load data từ MinIO (raw)\n",
    "    df = pd.read_csv(\n",
    "        f\"s3://{MINIO_BUCKET}/raw/olist_customers_dataset.csv\",\n",
    "        storage_options=STORAGE_OPTIONS\n",
    "    )\n",
    "\n",
    "    # 2. Dam bao zip code luon la chuoi 5 ky tu \n",
    "    df[\"customer_zip_code_prefix\"] = (\n",
    "        df[\"customer_zip_code_prefix\"]\n",
    "        .astype(str)\n",
    "        .str.zfill(5) \n",
    "    )\n",
    "\n",
    "    # 3. Loai bo trung lap \n",
    "    df = df.drop_duplicates(subset=[\"customer_id\"], keep=\"first\")\n",
    "\n",
    "    # 4. Chuan hoa \n",
    "    df[\"customer_city\"] = (\n",
    "        df[\"customer_city\"]\n",
    "        .str.lower()\n",
    "        .str.strip()\n",
    "    )\n",
    "\n",
    "    # 5. Mapping state code -> state nam\n",
    "    state_map = {\n",
    "        \"AC\": \"Acre\",\"AL\": \"Alagoas\",\"AP\": \"Amapá\",\"AM\": \"Amazonas\",\"BA\": \"Bahia\",\"CE\": \"Ceará\",\n",
    "        \"DF\": \"Distrito Federal (Brasília)\",\"ES\": \"Espírito Santo\",\"GO\": \"Goiás\",\"MA\": \"Maranhão\",\n",
    "        \"MT\": \"Mato Grosso\",\"MS\": \"Mato Grosso do Sul\",\"MG\": \"Minas Gerais\",\"PA\": \"Pará\",\"PB\": \"Paraíba\",\n",
    "        \"PR\": \"Paraná\",\"PE\": \"Pernambuco\",\"PI\": \"Piauí\",\"RJ\": \"Rio de Janeiro\",\"RN\": \"Rio Grande do Norte\",\n",
    "        \"RS\": \"Rio Grande do Sul\",\"RO\": \"Rondônia\",\"RR\": \"Roraima\",\"SC\": \"Santa Catarina\",\n",
    "        \"SP\": \"São Paulo\",\"SE\": \"Sergipe\",\"TO\": \"Tocantins\"\n",
    "    }\n",
    "    df[\"customer_state_name\"] = df[\"customer_state\"].map(state_map)\n",
    "\n",
    "    # 6. save parquet → silver\n",
    "    df.to_parquet(f\"s3://{MINIO_BUCKET}/silver/customers.parquet\",\n",
    "                    storage_options=STORAGE_OPTIONS,\n",
    "                    index=False)\n",
    "\n",
    "    print(f\"Customers cleaned: {df.shape[0]} rows → silver/\")\n",
    "    return df.head()\n"
   ]
  },
  {
   "cell_type": "code",
   "execution_count": 57,
   "id": "37fa9fc9",
   "metadata": {},
   "outputs": [
    {
     "name": "stdout",
     "output_type": "stream",
     "text": [
      "Customers cleaned: 99441 rows → silver/\n"
     ]
    },
    {
     "data": {
      "text/html": [
       "<div>\n",
       "<style scoped>\n",
       "    .dataframe tbody tr th:only-of-type {\n",
       "        vertical-align: middle;\n",
       "    }\n",
       "\n",
       "    .dataframe tbody tr th {\n",
       "        vertical-align: top;\n",
       "    }\n",
       "\n",
       "    .dataframe thead th {\n",
       "        text-align: right;\n",
       "    }\n",
       "</style>\n",
       "<table border=\"1\" class=\"dataframe\">\n",
       "  <thead>\n",
       "    <tr style=\"text-align: right;\">\n",
       "      <th></th>\n",
       "      <th>customer_id</th>\n",
       "      <th>customer_unique_id</th>\n",
       "      <th>customer_zip_code_prefix</th>\n",
       "      <th>customer_city</th>\n",
       "      <th>customer_state</th>\n",
       "      <th>customer_state_name</th>\n",
       "    </tr>\n",
       "  </thead>\n",
       "  <tbody>\n",
       "    <tr>\n",
       "      <th>0</th>\n",
       "      <td>06b8999e2fba1a1fbc88172c00ba8bc7</td>\n",
       "      <td>861eff4711a542e4b93843c6dd7febb0</td>\n",
       "      <td>14409</td>\n",
       "      <td>franca</td>\n",
       "      <td>SP</td>\n",
       "      <td>São Paulo</td>\n",
       "    </tr>\n",
       "    <tr>\n",
       "      <th>1</th>\n",
       "      <td>18955e83d337fd6b2def6b18a428ac77</td>\n",
       "      <td>290c77bc529b7ac935b93aa66c333dc3</td>\n",
       "      <td>09790</td>\n",
       "      <td>sao bernardo do campo</td>\n",
       "      <td>SP</td>\n",
       "      <td>São Paulo</td>\n",
       "    </tr>\n",
       "    <tr>\n",
       "      <th>2</th>\n",
       "      <td>4e7b3e00288586ebd08712fdd0374a03</td>\n",
       "      <td>060e732b5b29e8181a18229c7b0b2b5e</td>\n",
       "      <td>01151</td>\n",
       "      <td>sao paulo</td>\n",
       "      <td>SP</td>\n",
       "      <td>São Paulo</td>\n",
       "    </tr>\n",
       "    <tr>\n",
       "      <th>3</th>\n",
       "      <td>b2b6027bc5c5109e529d4dc6358b12c3</td>\n",
       "      <td>259dac757896d24d7702b9acbbff3f3c</td>\n",
       "      <td>08775</td>\n",
       "      <td>mogi das cruzes</td>\n",
       "      <td>SP</td>\n",
       "      <td>São Paulo</td>\n",
       "    </tr>\n",
       "    <tr>\n",
       "      <th>4</th>\n",
       "      <td>4f2d8ab171c80ec8364f7c12e35b23ad</td>\n",
       "      <td>345ecd01c38d18a9036ed96c73b8d066</td>\n",
       "      <td>13056</td>\n",
       "      <td>campinas</td>\n",
       "      <td>SP</td>\n",
       "      <td>São Paulo</td>\n",
       "    </tr>\n",
       "  </tbody>\n",
       "</table>\n",
       "</div>"
      ],
      "text/plain": [
       "                        customer_id                customer_unique_id  \\\n",
       "0  06b8999e2fba1a1fbc88172c00ba8bc7  861eff4711a542e4b93843c6dd7febb0   \n",
       "1  18955e83d337fd6b2def6b18a428ac77  290c77bc529b7ac935b93aa66c333dc3   \n",
       "2  4e7b3e00288586ebd08712fdd0374a03  060e732b5b29e8181a18229c7b0b2b5e   \n",
       "3  b2b6027bc5c5109e529d4dc6358b12c3  259dac757896d24d7702b9acbbff3f3c   \n",
       "4  4f2d8ab171c80ec8364f7c12e35b23ad  345ecd01c38d18a9036ed96c73b8d066   \n",
       "\n",
       "  customer_zip_code_prefix          customer_city customer_state  \\\n",
       "0                    14409                 franca             SP   \n",
       "1                    09790  sao bernardo do campo             SP   \n",
       "2                    01151              sao paulo             SP   \n",
       "3                    08775        mogi das cruzes             SP   \n",
       "4                    13056               campinas             SP   \n",
       "\n",
       "  customer_state_name  \n",
       "0           São Paulo  \n",
       "1           São Paulo  \n",
       "2           São Paulo  \n",
       "3           São Paulo  \n",
       "4           São Paulo  "
      ]
     },
     "execution_count": 57,
     "metadata": {},
     "output_type": "execute_result"
    }
   ],
   "source": [
    "clean_customers()"
   ]
  },
  {
   "cell_type": "code",
   "execution_count": 11,
   "id": "482cf349",
   "metadata": {},
   "outputs": [],
   "source": [
    "df_order_items = pd.read_csv(\n",
    "        f\"s3://{MINIO_BUCKET}/raw/olist_order_items_dataset.csv\",\n",
    "        storage_options=STORAGE_OPTIONS\n",
    "    )"
   ]
  },
  {
   "cell_type": "code",
   "execution_count": 27,
   "id": "cca0c23c",
   "metadata": {},
   "outputs": [
    {
     "name": "stdout",
     "output_type": "stream",
     "text": [
      "<class 'pandas.core.frame.DataFrame'>\n",
      "RangeIndex: 112650 entries, 0 to 112649\n",
      "Data columns (total 7 columns):\n",
      " #   Column               Non-Null Count   Dtype  \n",
      "---  ------               --------------   -----  \n",
      " 0   order_id             112650 non-null  object \n",
      " 1   order_item_id        112650 non-null  int64  \n",
      " 2   product_id           112650 non-null  object \n",
      " 3   seller_id            112650 non-null  object \n",
      " 4   shipping_limit_date  112650 non-null  object \n",
      " 5   price                112650 non-null  float64\n",
      " 6   freight_value        112650 non-null  float64\n",
      "dtypes: float64(2), int64(1), object(4)\n",
      "memory usage: 6.0+ MB\n",
      "None\n"
     ]
    }
   ],
   "source": [
    "print(df_order_items.info())\n"
   ]
  },
  {
   "cell_type": "code",
   "execution_count": 28,
   "id": "820a156a",
   "metadata": {},
   "outputs": [
    {
     "name": "stdout",
     "output_type": "stream",
     "text": [
      "                           order_id  order_item_id  \\\n",
      "0  00010242fe8c5a6d1ba2dd792cb16214              1   \n",
      "1  00018f77f2f0320c557190d7a144bdd3              1   \n",
      "2  000229ec398224ef6ca0657da4fc703e              1   \n",
      "3  00024acbcdf0a6daa1e931b038114c75              1   \n",
      "4  00042b26cf59d7ce69dfabb4e55b4fd9              1   \n",
      "\n",
      "                         product_id                         seller_id  \\\n",
      "0  4244733e06e7ecb4970a6e2683c13e61  48436dade18ac8b2bce089ec2a041202   \n",
      "1  e5f2d52b802189ee658865ca93d83a8f  dd7ddc04e1b6c2c614352b383efe2d36   \n",
      "2  c777355d18b72b67abbeef9df44fd0fd  5b51032eddd242adc84c38acab88f23d   \n",
      "3  7634da152a4610f1595efa32f14722fc  9d7a1d34a5052409006425275ba1c2b4   \n",
      "4  ac6c3623068f30de03045865e4e10089  df560393f3a51e74553ab94004ba5c87   \n",
      "\n",
      "   shipping_limit_date   price  freight_value  \n",
      "0  2017-09-19 09:45:35   58.90          13.29  \n",
      "1  2017-05-03 11:05:13  239.90          19.93  \n",
      "2  2018-01-18 14:48:30  199.00          17.87  \n",
      "3  2018-08-15 10:10:18   12.99          12.79  \n",
      "4  2017-02-13 13:57:51  199.90          18.14  \n"
     ]
    }
   ],
   "source": [
    "print(df_order_items.head())"
   ]
  },
  {
   "cell_type": "code",
   "execution_count": 29,
   "id": "64969eaa",
   "metadata": {},
   "outputs": [
    {
     "name": "stdout",
     "output_type": "stream",
     "text": [
      "order_id               0\n",
      "order_item_id          0\n",
      "product_id             0\n",
      "seller_id              0\n",
      "shipping_limit_date    0\n",
      "price                  0\n",
      "freight_value          0\n",
      "dtype: int64\n"
     ]
    }
   ],
   "source": [
    "print(df_order_items.isna().sum())"
   ]
  },
  {
   "cell_type": "code",
   "execution_count": 30,
   "id": "92445a73",
   "metadata": {},
   "outputs": [
    {
     "name": "stdout",
     "output_type": "stream",
     "text": [
      "Số bản ghi trùng hoàn toàn: 0\n"
     ]
    }
   ],
   "source": [
    "print(\"Số bản ghi trùng hoàn toàn:\", df_order_items.duplicated().sum())"
   ]
  },
  {
   "cell_type": "code",
   "execution_count": 31,
   "id": "cef8401f",
   "metadata": {},
   "outputs": [
    {
     "name": "stdout",
     "output_type": "stream",
     "text": [
      "Số bản ghi bị trùng (order_id + order_item_id): 0\n"
     ]
    }
   ],
   "source": [
    "dupes = df_order_items[df_order_items.duplicated(subset=[\"order_id\", \"order_item_id\"], keep=False)]\n",
    "print(\"Số bản ghi bị trùng (order_id + order_item_id):\", len(dupes))"
   ]
  },
  {
   "cell_type": "code",
   "execution_count": 32,
   "id": "17e98804",
   "metadata": {},
   "outputs": [
    {
     "name": "stdout",
     "output_type": "stream",
     "text": [
      "Số bản ghi price <= 0: 0\n",
      "Số bản ghi freight_value < 0: 0\n"
     ]
    }
   ],
   "source": [
    "print(\"Số bản ghi price <= 0:\", (df_order_items[\"price\"] <= 0).sum())\n",
    "print(\"Số bản ghi freight_value < 0:\", (df_order_items[\"freight_value\"] < 0).sum())"
   ]
  },
  {
   "cell_type": "code",
   "execution_count": 33,
   "id": "ffae6173",
   "metadata": {},
   "outputs": [
    {
     "name": "stdout",
     "output_type": "stream",
     "text": [
      "Kiểu dữ liệu cột shipping_limit_date: object\n",
      "0    2017-09-19 09:45:35\n",
      "1    2017-05-03 11:05:13\n",
      "2    2018-01-18 14:48:30\n",
      "3    2018-08-15 10:10:18\n",
      "4    2017-02-13 13:57:51\n",
      "Name: shipping_limit_date, dtype: object\n"
     ]
    }
   ],
   "source": [
    "print(\"Kiểu dữ liệu cột shipping_limit_date:\", df_order_items[\"shipping_limit_date\"].dtype)\n",
    "print(df_order_items[\"shipping_limit_date\"].head())"
   ]
  },
  {
   "cell_type": "code",
   "execution_count": 114,
   "id": "7555012e",
   "metadata": {},
   "outputs": [],
   "source": [
    "def clean_order_items():\n",
    "\n",
    "    df = pd.read_csv(\n",
    "        f\"s3://{MINIO_BUCKET}/raw/olist_order_items_dataset.csv\",\n",
    "        storage_options=STORAGE_OPTIONS\n",
    "    )\n",
    "\n",
    "    df[\"shipping_limit_date\"] = pd.to_datetime(\n",
    "        df[\"shipping_limit_date\"], errors=\"coerce\", utc=True\n",
    "    )\n",
    "\n",
    "    df = df.drop_duplicates(subset=[\"order_id\", \"order_item_id\", \"product_id\", \"seller_id\"])\n",
    "\n",
    "    df.to_parquet(f\"s3://{MINIO_BUCKET}/silver/order_items.parquet\", \n",
    "                  storage_options=STORAGE_OPTIONS, index=False)\n",
    "\n",
    "    print(f\"Order_items cleaned: {df.shape[0]} rows → silver/\")\n",
    "\n",
    "    return df.head()\n"
   ]
  },
  {
   "cell_type": "code",
   "execution_count": 115,
   "id": "bdaecc56",
   "metadata": {},
   "outputs": [
    {
     "name": "stdout",
     "output_type": "stream",
     "text": [
      "Order_items cleaned: 112650 rows → silver/\n"
     ]
    },
    {
     "data": {
      "text/html": [
       "<div>\n",
       "<style scoped>\n",
       "    .dataframe tbody tr th:only-of-type {\n",
       "        vertical-align: middle;\n",
       "    }\n",
       "\n",
       "    .dataframe tbody tr th {\n",
       "        vertical-align: top;\n",
       "    }\n",
       "\n",
       "    .dataframe thead th {\n",
       "        text-align: right;\n",
       "    }\n",
       "</style>\n",
       "<table border=\"1\" class=\"dataframe\">\n",
       "  <thead>\n",
       "    <tr style=\"text-align: right;\">\n",
       "      <th></th>\n",
       "      <th>order_id</th>\n",
       "      <th>order_item_id</th>\n",
       "      <th>product_id</th>\n",
       "      <th>seller_id</th>\n",
       "      <th>shipping_limit_date</th>\n",
       "      <th>price</th>\n",
       "      <th>freight_value</th>\n",
       "    </tr>\n",
       "  </thead>\n",
       "  <tbody>\n",
       "    <tr>\n",
       "      <th>0</th>\n",
       "      <td>00010242fe8c5a6d1ba2dd792cb16214</td>\n",
       "      <td>1</td>\n",
       "      <td>4244733e06e7ecb4970a6e2683c13e61</td>\n",
       "      <td>48436dade18ac8b2bce089ec2a041202</td>\n",
       "      <td>2017-09-19 09:45:35+00:00</td>\n",
       "      <td>58.90</td>\n",
       "      <td>13.29</td>\n",
       "    </tr>\n",
       "    <tr>\n",
       "      <th>1</th>\n",
       "      <td>00018f77f2f0320c557190d7a144bdd3</td>\n",
       "      <td>1</td>\n",
       "      <td>e5f2d52b802189ee658865ca93d83a8f</td>\n",
       "      <td>dd7ddc04e1b6c2c614352b383efe2d36</td>\n",
       "      <td>2017-05-03 11:05:13+00:00</td>\n",
       "      <td>239.90</td>\n",
       "      <td>19.93</td>\n",
       "    </tr>\n",
       "    <tr>\n",
       "      <th>2</th>\n",
       "      <td>000229ec398224ef6ca0657da4fc703e</td>\n",
       "      <td>1</td>\n",
       "      <td>c777355d18b72b67abbeef9df44fd0fd</td>\n",
       "      <td>5b51032eddd242adc84c38acab88f23d</td>\n",
       "      <td>2018-01-18 14:48:30+00:00</td>\n",
       "      <td>199.00</td>\n",
       "      <td>17.87</td>\n",
       "    </tr>\n",
       "    <tr>\n",
       "      <th>3</th>\n",
       "      <td>00024acbcdf0a6daa1e931b038114c75</td>\n",
       "      <td>1</td>\n",
       "      <td>7634da152a4610f1595efa32f14722fc</td>\n",
       "      <td>9d7a1d34a5052409006425275ba1c2b4</td>\n",
       "      <td>2018-08-15 10:10:18+00:00</td>\n",
       "      <td>12.99</td>\n",
       "      <td>12.79</td>\n",
       "    </tr>\n",
       "    <tr>\n",
       "      <th>4</th>\n",
       "      <td>00042b26cf59d7ce69dfabb4e55b4fd9</td>\n",
       "      <td>1</td>\n",
       "      <td>ac6c3623068f30de03045865e4e10089</td>\n",
       "      <td>df560393f3a51e74553ab94004ba5c87</td>\n",
       "      <td>2017-02-13 13:57:51+00:00</td>\n",
       "      <td>199.90</td>\n",
       "      <td>18.14</td>\n",
       "    </tr>\n",
       "  </tbody>\n",
       "</table>\n",
       "</div>"
      ],
      "text/plain": [
       "                           order_id  order_item_id  \\\n",
       "0  00010242fe8c5a6d1ba2dd792cb16214              1   \n",
       "1  00018f77f2f0320c557190d7a144bdd3              1   \n",
       "2  000229ec398224ef6ca0657da4fc703e              1   \n",
       "3  00024acbcdf0a6daa1e931b038114c75              1   \n",
       "4  00042b26cf59d7ce69dfabb4e55b4fd9              1   \n",
       "\n",
       "                         product_id                         seller_id  \\\n",
       "0  4244733e06e7ecb4970a6e2683c13e61  48436dade18ac8b2bce089ec2a041202   \n",
       "1  e5f2d52b802189ee658865ca93d83a8f  dd7ddc04e1b6c2c614352b383efe2d36   \n",
       "2  c777355d18b72b67abbeef9df44fd0fd  5b51032eddd242adc84c38acab88f23d   \n",
       "3  7634da152a4610f1595efa32f14722fc  9d7a1d34a5052409006425275ba1c2b4   \n",
       "4  ac6c3623068f30de03045865e4e10089  df560393f3a51e74553ab94004ba5c87   \n",
       "\n",
       "        shipping_limit_date   price  freight_value  \n",
       "0 2017-09-19 09:45:35+00:00   58.90          13.29  \n",
       "1 2017-05-03 11:05:13+00:00  239.90          19.93  \n",
       "2 2018-01-18 14:48:30+00:00  199.00          17.87  \n",
       "3 2018-08-15 10:10:18+00:00   12.99          12.79  \n",
       "4 2017-02-13 13:57:51+00:00  199.90          18.14  "
      ]
     },
     "execution_count": 115,
     "metadata": {},
     "output_type": "execute_result"
    }
   ],
   "source": [
    "clean_order_items()"
   ]
  },
  {
   "cell_type": "code",
   "execution_count": 36,
   "id": "4a6d6bb3",
   "metadata": {},
   "outputs": [],
   "source": [
    "df_products = pd.read_csv(\n",
    "        f\"s3://{MINIO_BUCKET}/raw/olist_products_dataset.csv\",\n",
    "        storage_options=STORAGE_OPTIONS\n",
    "    )"
   ]
  },
  {
   "cell_type": "code",
   "execution_count": 44,
   "id": "4c5d5f92",
   "metadata": {},
   "outputs": [
    {
     "name": "stdout",
     "output_type": "stream",
     "text": [
      "(32951, 10)\n",
      "product_id                     object\n",
      "product_category_name          object\n",
      "product_name_lenght           float64\n",
      "product_description_lenght    float64\n",
      "product_photos_qty            float64\n",
      "product_weight_g              float64\n",
      "product_length_cm             float64\n",
      "product_height_cm             float64\n",
      "product_width_cm              float64\n",
      "product_volume_cm3            float64\n",
      "dtype: object\n"
     ]
    }
   ],
   "source": [
    "print(df_products.shape)\n",
    "print(df_products.dtypes)\n",
    "\n"
   ]
  },
  {
   "cell_type": "code",
   "execution_count": 45,
   "id": "f2740f90",
   "metadata": {},
   "outputs": [
    {
     "name": "stdout",
     "output_type": "stream",
     "text": [
      "product_id                      0\n",
      "product_category_name         610\n",
      "product_name_lenght           610\n",
      "product_description_lenght    610\n",
      "product_photos_qty            610\n",
      "product_weight_g                2\n",
      "product_length_cm               2\n",
      "product_height_cm               2\n",
      "product_width_cm                2\n",
      "product_volume_cm3              2\n",
      "dtype: int64\n"
     ]
    }
   ],
   "source": [
    "print(df_products.isna().sum())"
   ]
  },
  {
   "cell_type": "code",
   "execution_count": 39,
   "id": "7c695c62",
   "metadata": {},
   "outputs": [
    {
     "name": "stdout",
     "output_type": "stream",
     "text": [
      "       product_name_lenght  product_description_lenght  product_photos_qty  \\\n",
      "count         32341.000000                32341.000000        32341.000000   \n",
      "mean             48.476949                  771.495285            2.188986   \n",
      "std              10.245741                  635.115225            1.736766   \n",
      "min               5.000000                    4.000000            1.000000   \n",
      "25%              42.000000                  339.000000            1.000000   \n",
      "50%              51.000000                  595.000000            1.000000   \n",
      "75%              57.000000                  972.000000            3.000000   \n",
      "max              76.000000                 3992.000000           20.000000   \n",
      "\n",
      "       product_weight_g  product_length_cm  product_height_cm  \\\n",
      "count      32949.000000       32949.000000       32949.000000   \n",
      "mean        2276.472488          30.815078          16.937661   \n",
      "std         4282.038731          16.914458          13.637554   \n",
      "min            0.000000           7.000000           2.000000   \n",
      "25%          300.000000          18.000000           8.000000   \n",
      "50%          700.000000          25.000000          13.000000   \n",
      "75%         1900.000000          38.000000          21.000000   \n",
      "max        40425.000000         105.000000         105.000000   \n",
      "\n",
      "       product_width_cm  \n",
      "count      32949.000000  \n",
      "mean          23.196728  \n",
      "std           12.079047  \n",
      "min            6.000000  \n",
      "25%           15.000000  \n",
      "50%           20.000000  \n",
      "75%           30.000000  \n",
      "max          118.000000  \n"
     ]
    }
   ],
   "source": [
    "num_cols = [\n",
    "    \"product_name_lenght\",\n",
    "    \"product_description_lenght\",\n",
    "    \"product_photos_qty\",\n",
    "    \"product_weight_g\",\n",
    "    \"product_length_cm\",\n",
    "    \"product_height_cm\",\n",
    "    \"product_width_cm\"\n",
    "]\n",
    "\n",
    "print(df_products[num_cols].describe())\n"
   ]
  },
  {
   "cell_type": "code",
   "execution_count": 40,
   "id": "5d016903",
   "metadata": {},
   "outputs": [
    {
     "name": "stdout",
     "output_type": "stream",
     "text": [
      "product_name_lenght 0\n",
      "product_description_lenght 0\n",
      "product_photos_qty 0\n",
      "product_weight_g 4\n",
      "product_length_cm 0\n",
      "product_height_cm 0\n",
      "product_width_cm 0\n"
     ]
    }
   ],
   "source": [
    "for col in num_cols:\n",
    "    print(col, (df_products[col] <= 0).sum())\n"
   ]
  },
  {
   "cell_type": "code",
   "execution_count": 46,
   "id": "d4c588f9",
   "metadata": {},
   "outputs": [
    {
     "name": "stdout",
     "output_type": "stream",
     "text": [
      "Weight < 50g: 10\n",
      "Volume < 10cm³: 0\n"
     ]
    }
   ],
   "source": [
    "df_products[\"product_volume_cm3\"] = (\n",
    "    df_products[\"product_length_cm\"] * df_products[\"product_height_cm\"] * df_products[\"product_width_cm\"]\n",
    ")\n",
    "\n",
    "print(\"Weight < 50g:\", (df_products[\"product_weight_g\"] < 50).sum())\n",
    "print(\"Volume < 10cm³:\", (df_products[\"product_volume_cm3\"] < 10).sum())"
   ]
  },
  {
   "cell_type": "code",
   "execution_count": 41,
   "id": "65b10c5d",
   "metadata": {},
   "outputs": [
    {
     "name": "stdout",
     "output_type": "stream",
     "text": [
      "73\n",
      "product_category_name\n",
      "cama_mesa_banho           3029\n",
      "esporte_lazer             2867\n",
      "moveis_decoracao          2657\n",
      "beleza_saude              2444\n",
      "utilidades_domesticas     2335\n",
      "automotivo                1900\n",
      "informatica_acessorios    1639\n",
      "brinquedos                1411\n",
      "relogios_presentes        1329\n",
      "telefonia                 1134\n",
      "Name: count, dtype: int64\n",
      "Null: 610\n"
     ]
    }
   ],
   "source": [
    "print(df_products[\"product_category_name\"].nunique())\n",
    "print(df_products[\"product_category_name\"].value_counts().head(10))\n",
    "print(\"Null:\", df_products[\"product_category_name\"].isna().sum())\n"
   ]
  },
  {
   "cell_type": "code",
   "execution_count": 42,
   "id": "e080b7c0",
   "metadata": {},
   "outputs": [
    {
     "name": "stdout",
     "output_type": "stream",
     "text": [
      "Trùng product_id: 0\n"
     ]
    }
   ],
   "source": [
    "print(\"Trùng product_id:\", df_products[\"product_id\"].duplicated().sum())\n"
   ]
  },
  {
   "cell_type": "code",
   "execution_count": 61,
   "id": "cab034c4",
   "metadata": {},
   "outputs": [],
   "source": [
    "\n",
    "import numpy as np\n",
    "def clean_products():\n",
    "\n",
    "    df = pd.read_csv(\n",
    "        f\"s3://{MINIO_BUCKET}/raw/olist_products_dataset.csv\",\n",
    "        storage_options=STORAGE_OPTIONS\n",
    "    )\n",
    "\n",
    "    df[\"product_category_name\"] = df[\"product_category_name\"].fillna(\"unknown\")\n",
    "\n",
    "\n",
    "    try:\n",
    "        trans = pd.read_csv(\n",
    "            f\"s3://{MINIO_BUCKET}/raw/product_category_name_translation.csv\",\n",
    "            storage_options=STORAGE_OPTIONS\n",
    "        )\n",
    "        df = df.merge(trans, on=\"product_category_name\", how=\"left\")\n",
    "        df[\"product_category_name\"] = df[\"product_category_name_english\"].fillna(df[\"product_category_name\"])\n",
    "        df.drop(columns=[\"product_category_name_english\"], inplace=True)\n",
    "    except Exception as e:\n",
    "        print(\"Không tìm thấy file translation:\", e)\n",
    "\n",
    "\n",
    "    num_cols = [\n",
    "        \"product_name_lenght\", \"product_description_lenght\", \"product_photos_qty\",\n",
    "        \"product_weight_g\", \"product_length_cm\", \"product_height_cm\", \"product_width_cm\"\n",
    "    ]\n",
    "    for col in num_cols:\n",
    "        df[col] = pd.to_numeric(df[col], errors=\"coerce\")\n",
    "\n",
    "    df.loc[df[\"product_weight_g\"] <= 0, \"product_weight_g\"] = np.nan\n",
    "    df[\"size_anomaly\"] = df[\"product_weight_g\"].apply(lambda x: 1 if x is not None and x < 50 else 0)\n",
    "\n",
    "    df[\"product_volume_cm3\"] = (\n",
    "        df[\"product_length_cm\"] * df[\"product_height_cm\"] * df[\"product_width_cm\"]\n",
    "    )\n",
    "\n",
    "    df = df.drop_duplicates(subset=[\"product_id\"])\n",
    "\n",
    "    df.to_parquet(\n",
    "        f\"s3://{MINIO_BUCKET}/silver/products.parquet\",\n",
    "        index=False,\n",
    "        storage_options=STORAGE_OPTIONS\n",
    "    )\n",
    "    print(f\"Products cleaned: {df.shape[0]} rows → silver/\")\n",
    "    return df.head()\n"
   ]
  },
  {
   "cell_type": "code",
   "execution_count": 62,
   "id": "413e6b19",
   "metadata": {},
   "outputs": [
    {
     "name": "stdout",
     "output_type": "stream",
     "text": [
      "Products cleaned: 32951 rows → silver/\n"
     ]
    },
    {
     "data": {
      "text/html": [
       "<div>\n",
       "<style scoped>\n",
       "    .dataframe tbody tr th:only-of-type {\n",
       "        vertical-align: middle;\n",
       "    }\n",
       "\n",
       "    .dataframe tbody tr th {\n",
       "        vertical-align: top;\n",
       "    }\n",
       "\n",
       "    .dataframe thead th {\n",
       "        text-align: right;\n",
       "    }\n",
       "</style>\n",
       "<table border=\"1\" class=\"dataframe\">\n",
       "  <thead>\n",
       "    <tr style=\"text-align: right;\">\n",
       "      <th></th>\n",
       "      <th>product_id</th>\n",
       "      <th>product_category_name</th>\n",
       "      <th>product_name_lenght</th>\n",
       "      <th>product_description_lenght</th>\n",
       "      <th>product_photos_qty</th>\n",
       "      <th>product_weight_g</th>\n",
       "      <th>product_length_cm</th>\n",
       "      <th>product_height_cm</th>\n",
       "      <th>product_width_cm</th>\n",
       "      <th>size_anomaly</th>\n",
       "      <th>product_volume_cm3</th>\n",
       "    </tr>\n",
       "  </thead>\n",
       "  <tbody>\n",
       "    <tr>\n",
       "      <th>0</th>\n",
       "      <td>1e9e8ef04dbcff4541ed26657ea517e5</td>\n",
       "      <td>perfumery</td>\n",
       "      <td>40.0</td>\n",
       "      <td>287.0</td>\n",
       "      <td>1.0</td>\n",
       "      <td>225.0</td>\n",
       "      <td>16.0</td>\n",
       "      <td>10.0</td>\n",
       "      <td>14.0</td>\n",
       "      <td>0</td>\n",
       "      <td>2240.0</td>\n",
       "    </tr>\n",
       "    <tr>\n",
       "      <th>1</th>\n",
       "      <td>3aa071139cb16b67ca9e5dea641aaa2f</td>\n",
       "      <td>art</td>\n",
       "      <td>44.0</td>\n",
       "      <td>276.0</td>\n",
       "      <td>1.0</td>\n",
       "      <td>1000.0</td>\n",
       "      <td>30.0</td>\n",
       "      <td>18.0</td>\n",
       "      <td>20.0</td>\n",
       "      <td>0</td>\n",
       "      <td>10800.0</td>\n",
       "    </tr>\n",
       "    <tr>\n",
       "      <th>2</th>\n",
       "      <td>96bd76ec8810374ed1b65e291975717f</td>\n",
       "      <td>sports_leisure</td>\n",
       "      <td>46.0</td>\n",
       "      <td>250.0</td>\n",
       "      <td>1.0</td>\n",
       "      <td>154.0</td>\n",
       "      <td>18.0</td>\n",
       "      <td>9.0</td>\n",
       "      <td>15.0</td>\n",
       "      <td>0</td>\n",
       "      <td>2430.0</td>\n",
       "    </tr>\n",
       "    <tr>\n",
       "      <th>3</th>\n",
       "      <td>cef67bcfe19066a932b7673e239eb23d</td>\n",
       "      <td>baby</td>\n",
       "      <td>27.0</td>\n",
       "      <td>261.0</td>\n",
       "      <td>1.0</td>\n",
       "      <td>371.0</td>\n",
       "      <td>26.0</td>\n",
       "      <td>4.0</td>\n",
       "      <td>26.0</td>\n",
       "      <td>0</td>\n",
       "      <td>2704.0</td>\n",
       "    </tr>\n",
       "    <tr>\n",
       "      <th>4</th>\n",
       "      <td>9dc1a7de274444849c219cff195d0b71</td>\n",
       "      <td>housewares</td>\n",
       "      <td>37.0</td>\n",
       "      <td>402.0</td>\n",
       "      <td>4.0</td>\n",
       "      <td>625.0</td>\n",
       "      <td>20.0</td>\n",
       "      <td>17.0</td>\n",
       "      <td>13.0</td>\n",
       "      <td>0</td>\n",
       "      <td>4420.0</td>\n",
       "    </tr>\n",
       "  </tbody>\n",
       "</table>\n",
       "</div>"
      ],
      "text/plain": [
       "                         product_id product_category_name  \\\n",
       "0  1e9e8ef04dbcff4541ed26657ea517e5             perfumery   \n",
       "1  3aa071139cb16b67ca9e5dea641aaa2f                   art   \n",
       "2  96bd76ec8810374ed1b65e291975717f        sports_leisure   \n",
       "3  cef67bcfe19066a932b7673e239eb23d                  baby   \n",
       "4  9dc1a7de274444849c219cff195d0b71            housewares   \n",
       "\n",
       "   product_name_lenght  product_description_lenght  product_photos_qty  \\\n",
       "0                 40.0                       287.0                 1.0   \n",
       "1                 44.0                       276.0                 1.0   \n",
       "2                 46.0                       250.0                 1.0   \n",
       "3                 27.0                       261.0                 1.0   \n",
       "4                 37.0                       402.0                 4.0   \n",
       "\n",
       "   product_weight_g  product_length_cm  product_height_cm  product_width_cm  \\\n",
       "0             225.0               16.0               10.0              14.0   \n",
       "1            1000.0               30.0               18.0              20.0   \n",
       "2             154.0               18.0                9.0              15.0   \n",
       "3             371.0               26.0                4.0              26.0   \n",
       "4             625.0               20.0               17.0              13.0   \n",
       "\n",
       "   size_anomaly  product_volume_cm3  \n",
       "0             0              2240.0  \n",
       "1             0             10800.0  \n",
       "2             0              2430.0  \n",
       "3             0              2704.0  \n",
       "4             0              4420.0  "
      ]
     },
     "execution_count": 62,
     "metadata": {},
     "output_type": "execute_result"
    }
   ],
   "source": [
    "\n",
    "clean_products()"
   ]
  },
  {
   "cell_type": "code",
   "execution_count": null,
   "id": "66298902",
   "metadata": {},
   "outputs": [],
   "source": []
  },
  {
   "cell_type": "code",
   "execution_count": 90,
   "id": "056d8ad3",
   "metadata": {},
   "outputs": [],
   "source": [
    "df_sellers = pd.read_csv(\n",
    "        f\"s3://{MINIO_BUCKET}/raw/olist_sellers_dataset.csv\",\n",
    "        storage_options=STORAGE_OPTIONS\n",
    "    )"
   ]
  },
  {
   "cell_type": "code",
   "execution_count": 59,
   "id": "a82c3fef",
   "metadata": {},
   "outputs": [
    {
     "name": "stdout",
     "output_type": "stream",
     "text": [
      "(3095, 4)\n",
      "seller_id                 object\n",
      "seller_zip_code_prefix     int64\n",
      "seller_city               object\n",
      "seller_state              object\n",
      "dtype: object\n",
      "seller_id                 0\n",
      "seller_zip_code_prefix    0\n",
      "seller_city               0\n",
      "seller_state              0\n",
      "dtype: int64\n"
     ]
    }
   ],
   "source": [
    "print(df_sellers.shape)\n",
    "print(df_sellers.dtypes)\n",
    "print(df_sellers.isna().sum())\n"
   ]
  },
  {
   "cell_type": "code",
   "execution_count": 60,
   "id": "e27f4019",
   "metadata": {},
   "outputs": [
    {
     "name": "stdout",
     "output_type": "stream",
     "text": [
      "Seller_id duplicated: 0\n"
     ]
    }
   ],
   "source": [
    "print(\"Seller_id duplicated:\", df_sellers[\"seller_id\"].duplicated().sum())\n"
   ]
  },
  {
   "cell_type": "code",
   "execution_count": 61,
   "id": "ba01543a",
   "metadata": {},
   "outputs": [
    {
     "name": "stdout",
     "output_type": "stream",
     "text": [
      "seller_state\n",
      "SP    1849\n",
      "PR     349\n",
      "MG     244\n",
      "SC     190\n",
      "RJ     171\n",
      "RS     129\n",
      "GO      40\n",
      "DF      30\n",
      "ES      23\n",
      "BA      19\n",
      "CE      13\n",
      "PE       9\n",
      "PB       6\n",
      "MS       5\n",
      "RN       5\n",
      "MT       4\n",
      "RO       2\n",
      "SE       2\n",
      "AC       1\n",
      "PI       1\n",
      "MA       1\n",
      "AM       1\n",
      "PA       1\n",
      "Name: count, dtype: int64\n",
      "0\n"
     ]
    }
   ],
   "source": [
    "print(df_sellers[\"seller_state\"].value_counts())\n",
    "print((df_sellers[\"seller_state\"].str.len() != 2).sum())\n"
   ]
  },
  {
   "cell_type": "code",
   "execution_count": 62,
   "id": "bb2aa34d",
   "metadata": {},
   "outputs": [
    {
     "name": "stdout",
     "output_type": "stream",
     "text": [
      "count     3095.000000\n",
      "mean     32291.059451\n",
      "std      32713.453830\n",
      "min       1001.000000\n",
      "25%       7093.500000\n",
      "50%      14940.000000\n",
      "75%      64552.500000\n",
      "max      99730.000000\n",
      "Name: seller_zip_code_prefix, dtype: float64\n",
      "0\n"
     ]
    }
   ],
   "source": [
    "print(df_sellers[\"seller_zip_code_prefix\"].describe())\n",
    "print((df_sellers[\"seller_zip_code_prefix\"] <= 0).sum())\n"
   ]
  },
  {
   "cell_type": "code",
   "execution_count": 63,
   "id": "71db111a",
   "metadata": {},
   "outputs": [
    {
     "name": "stdout",
     "output_type": "stream",
     "text": [
      "0\n",
      "611\n",
      "seller_city\n",
      "sao paulo         694\n",
      "curitiba          127\n",
      "rio de janeiro     96\n",
      "belo horizonte     68\n",
      "ribeirao preto     52\n",
      "guarulhos          50\n",
      "ibitinga           49\n",
      "santo andre        45\n",
      "campinas           41\n",
      "maringa            40\n",
      "Name: count, dtype: int64\n"
     ]
    }
   ],
   "source": [
    "print(df_sellers[\"seller_city\"].isna().sum())\n",
    "print(df_sellers[\"seller_city\"].nunique())\n",
    "print(df_sellers[\"seller_city\"].value_counts().head(10))\n"
   ]
  },
  {
   "cell_type": "code",
   "execution_count": 98,
   "id": "cc611f4d",
   "metadata": {},
   "outputs": [],
   "source": [
    "def clean_sellers():\n",
    "    df = pd.read_csv(\n",
    "        f\"s3://{MINIO_BUCKET}/raw/olist_sellers_dataset.csv\",\n",
    "        storage_options=STORAGE_OPTIONS\n",
    "    )\n",
    "\n",
    "    df = df.drop_duplicates(subset=[\"seller_id\"])\n",
    "\n",
    "\n",
    "    df[\"seller_city\"] = df[\"seller_city\"].str.strip().str.title()\n",
    "\n",
    "    df[\"seller_state\"] = df[\"seller_state\"].str.upper()\n",
    "    df.loc[df[\"seller_state\"].str.len() != 2, \"seller_state\"] = \"Unknown\"\n",
    "\n",
    "    df[\"seller_zip_code_prefix\"] = (df[\"seller_zip_code_prefix\"].astype(str).str.zfill(5))\n",
    "\n",
    "    df.to_parquet(\n",
    "        f\"s3://{MINIO_BUCKET}/silver/sellers.parquet\",\n",
    "        index=False,\n",
    "        storage_options=STORAGE_OPTIONS\n",
    "    )\n",
    "\n",
    "    print(\"sellers → silver (cleaned)\")\n",
    "\n",
    "    return df.head()\n"
   ]
  },
  {
   "cell_type": "code",
   "execution_count": 99,
   "id": "8be4700b",
   "metadata": {},
   "outputs": [
    {
     "name": "stdout",
     "output_type": "stream",
     "text": [
      "sellers → silver (cleaned)\n"
     ]
    },
    {
     "data": {
      "text/html": [
       "<div>\n",
       "<style scoped>\n",
       "    .dataframe tbody tr th:only-of-type {\n",
       "        vertical-align: middle;\n",
       "    }\n",
       "\n",
       "    .dataframe tbody tr th {\n",
       "        vertical-align: top;\n",
       "    }\n",
       "\n",
       "    .dataframe thead th {\n",
       "        text-align: right;\n",
       "    }\n",
       "</style>\n",
       "<table border=\"1\" class=\"dataframe\">\n",
       "  <thead>\n",
       "    <tr style=\"text-align: right;\">\n",
       "      <th></th>\n",
       "      <th>seller_id</th>\n",
       "      <th>seller_zip_code_prefix</th>\n",
       "      <th>seller_city</th>\n",
       "      <th>seller_state</th>\n",
       "    </tr>\n",
       "  </thead>\n",
       "  <tbody>\n",
       "    <tr>\n",
       "      <th>0</th>\n",
       "      <td>3442f8959a84dea7ee197c632cb2df15</td>\n",
       "      <td>13023</td>\n",
       "      <td>Campinas</td>\n",
       "      <td>SP</td>\n",
       "    </tr>\n",
       "    <tr>\n",
       "      <th>1</th>\n",
       "      <td>d1b65fc7debc3361ea86b5f14c68d2e2</td>\n",
       "      <td>13844</td>\n",
       "      <td>Mogi Guacu</td>\n",
       "      <td>SP</td>\n",
       "    </tr>\n",
       "    <tr>\n",
       "      <th>2</th>\n",
       "      <td>ce3ad9de960102d0677a81f5d0bb7b2d</td>\n",
       "      <td>20031</td>\n",
       "      <td>Rio De Janeiro</td>\n",
       "      <td>RJ</td>\n",
       "    </tr>\n",
       "    <tr>\n",
       "      <th>3</th>\n",
       "      <td>c0f3eea2e14555b6faeea3dd58c1b1c3</td>\n",
       "      <td>04195</td>\n",
       "      <td>Sao Paulo</td>\n",
       "      <td>SP</td>\n",
       "    </tr>\n",
       "    <tr>\n",
       "      <th>4</th>\n",
       "      <td>51a04a8a6bdcb23deccc82b0b80742cf</td>\n",
       "      <td>12914</td>\n",
       "      <td>Braganca Paulista</td>\n",
       "      <td>SP</td>\n",
       "    </tr>\n",
       "  </tbody>\n",
       "</table>\n",
       "</div>"
      ],
      "text/plain": [
       "                          seller_id seller_zip_code_prefix        seller_city  \\\n",
       "0  3442f8959a84dea7ee197c632cb2df15                  13023           Campinas   \n",
       "1  d1b65fc7debc3361ea86b5f14c68d2e2                  13844         Mogi Guacu   \n",
       "2  ce3ad9de960102d0677a81f5d0bb7b2d                  20031     Rio De Janeiro   \n",
       "3  c0f3eea2e14555b6faeea3dd58c1b1c3                  04195          Sao Paulo   \n",
       "4  51a04a8a6bdcb23deccc82b0b80742cf                  12914  Braganca Paulista   \n",
       "\n",
       "  seller_state  \n",
       "0           SP  \n",
       "1           SP  \n",
       "2           RJ  \n",
       "3           SP  \n",
       "4           SP  "
      ]
     },
     "execution_count": 99,
     "metadata": {},
     "output_type": "execute_result"
    }
   ],
   "source": [
    "clean_sellers()"
   ]
  },
  {
   "cell_type": "code",
   "execution_count": 4,
   "id": "61f5c9a2",
   "metadata": {},
   "outputs": [],
   "source": [
    "df_payments = pd.read_csv(\n",
    "        f\"s3://{MINIO_BUCKET}/raw/olist_order_payments_dataset.csv\",\n",
    "        storage_options=STORAGE_OPTIONS\n",
    "    )\n"
   ]
  },
  {
   "cell_type": "code",
   "execution_count": 5,
   "id": "d6ac402c",
   "metadata": {},
   "outputs": [
    {
     "name": "stdout",
     "output_type": "stream",
     "text": [
      "(103886, 5)\n",
      "order_id                0\n",
      "payment_sequential      0\n",
      "payment_type            0\n",
      "payment_installments    0\n",
      "payment_value           0\n",
      "dtype: int64\n",
      "0\n"
     ]
    }
   ],
   "source": [
    "print(df_payments.shape)\n",
    "print(df_payments.isna().sum())\n",
    "print(df_payments.duplicated().sum())\n"
   ]
  },
  {
   "cell_type": "code",
   "execution_count": 6,
   "id": "0359cb7c",
   "metadata": {},
   "outputs": [
    {
     "name": "stdout",
     "output_type": "stream",
     "text": [
      "payment_type\n",
      "credit_card    76795\n",
      "boleto         19784\n",
      "voucher         5775\n",
      "debit_card      1529\n",
      "not_defined        3\n",
      "Name: count, dtype: int64\n"
     ]
    }
   ],
   "source": [
    "print(df_payments[\"payment_type\"].value_counts())\n"
   ]
  },
  {
   "cell_type": "code",
   "execution_count": 7,
   "id": "3bd11715",
   "metadata": {},
   "outputs": [
    {
     "name": "stdout",
     "output_type": "stream",
     "text": [
      "2\n"
     ]
    }
   ],
   "source": [
    "print((df_payments[\"payment_installments\"] <= 0).sum())\n"
   ]
  },
  {
   "cell_type": "code",
   "execution_count": 8,
   "id": "449f633b",
   "metadata": {},
   "outputs": [
    {
     "name": "stdout",
     "output_type": "stream",
     "text": [
      "9\n"
     ]
    }
   ],
   "source": [
    "print((df_payments[\"payment_value\"] <= 0).sum())\n"
   ]
  },
  {
   "cell_type": "code",
   "execution_count": 65,
   "id": "ec19c669",
   "metadata": {},
   "outputs": [],
   "source": [
    "import numpy as np\n",
    "def clean_payments():\n",
    "\n",
    "    df = pd.read_csv(\n",
    "        f\"s3://{MINIO_BUCKET}/raw/olist_order_payments_dataset.csv\",\n",
    "        storage_options=STORAGE_OPTIONS\n",
    "    )\n",
    "\n",
    "\n",
    "    df = df.drop_duplicates()\n",
    "\n",
    "    df[\"payment_type\"] = df[\"payment_type\"].fillna(\"unknown\")\n",
    "    df[\"payment_type\"] = df[\"payment_type\"].replace(\"not_defined\", \"unknown\")\n",
    "\n",
    "\n",
    "    df.loc[df[\"payment_installments\"] <= 0, \"payment_installments\"] = 1\n",
    "\n",
    "\n",
    "    df[\"payment_value\"] = pd.to_numeric(df[\"payment_value\"], errors=\"coerce\")\n",
    "    df.loc[df[\"payment_value\"] <= 0, \"payment_value\"] = np.nan\n",
    "\n",
    "\n",
    "    df.to_parquet(\n",
    "        f\"s3://{MINIO_BUCKET}/silver/payments.parquet\",\n",
    "        index=False,\n",
    "        storage_options=STORAGE_OPTIONS\n",
    "    )\n",
    "\n",
    "    print(\"payments → silver (cleaned)\")\n",
    "    return df.head()\n"
   ]
  },
  {
   "cell_type": "code",
   "execution_count": 66,
   "id": "591e78b3",
   "metadata": {},
   "outputs": [
    {
     "name": "stdout",
     "output_type": "stream",
     "text": [
      "payments → silver (cleaned)\n"
     ]
    },
    {
     "data": {
      "text/html": [
       "<div>\n",
       "<style scoped>\n",
       "    .dataframe tbody tr th:only-of-type {\n",
       "        vertical-align: middle;\n",
       "    }\n",
       "\n",
       "    .dataframe tbody tr th {\n",
       "        vertical-align: top;\n",
       "    }\n",
       "\n",
       "    .dataframe thead th {\n",
       "        text-align: right;\n",
       "    }\n",
       "</style>\n",
       "<table border=\"1\" class=\"dataframe\">\n",
       "  <thead>\n",
       "    <tr style=\"text-align: right;\">\n",
       "      <th></th>\n",
       "      <th>order_id</th>\n",
       "      <th>payment_sequential</th>\n",
       "      <th>payment_type</th>\n",
       "      <th>payment_installments</th>\n",
       "      <th>payment_value</th>\n",
       "    </tr>\n",
       "  </thead>\n",
       "  <tbody>\n",
       "    <tr>\n",
       "      <th>0</th>\n",
       "      <td>b81ef226f3fe1789b1e8b2acac839d17</td>\n",
       "      <td>1</td>\n",
       "      <td>credit_card</td>\n",
       "      <td>8</td>\n",
       "      <td>99.33</td>\n",
       "    </tr>\n",
       "    <tr>\n",
       "      <th>1</th>\n",
       "      <td>a9810da82917af2d9aefd1278f1dcfa0</td>\n",
       "      <td>1</td>\n",
       "      <td>credit_card</td>\n",
       "      <td>1</td>\n",
       "      <td>24.39</td>\n",
       "    </tr>\n",
       "    <tr>\n",
       "      <th>2</th>\n",
       "      <td>25e8ea4e93396b6fa0d3dd708e76c1bd</td>\n",
       "      <td>1</td>\n",
       "      <td>credit_card</td>\n",
       "      <td>1</td>\n",
       "      <td>65.71</td>\n",
       "    </tr>\n",
       "    <tr>\n",
       "      <th>3</th>\n",
       "      <td>ba78997921bbcdc1373bb41e913ab953</td>\n",
       "      <td>1</td>\n",
       "      <td>credit_card</td>\n",
       "      <td>8</td>\n",
       "      <td>107.78</td>\n",
       "    </tr>\n",
       "    <tr>\n",
       "      <th>4</th>\n",
       "      <td>42fdf880ba16b47b59251dd489d4441a</td>\n",
       "      <td>1</td>\n",
       "      <td>credit_card</td>\n",
       "      <td>2</td>\n",
       "      <td>128.45</td>\n",
       "    </tr>\n",
       "  </tbody>\n",
       "</table>\n",
       "</div>"
      ],
      "text/plain": [
       "                           order_id  payment_sequential payment_type  \\\n",
       "0  b81ef226f3fe1789b1e8b2acac839d17                   1  credit_card   \n",
       "1  a9810da82917af2d9aefd1278f1dcfa0                   1  credit_card   \n",
       "2  25e8ea4e93396b6fa0d3dd708e76c1bd                   1  credit_card   \n",
       "3  ba78997921bbcdc1373bb41e913ab953                   1  credit_card   \n",
       "4  42fdf880ba16b47b59251dd489d4441a                   1  credit_card   \n",
       "\n",
       "   payment_installments  payment_value  \n",
       "0                     8          99.33  \n",
       "1                     1          24.39  \n",
       "2                     1          65.71  \n",
       "3                     8         107.78  \n",
       "4                     2         128.45  "
      ]
     },
     "execution_count": 66,
     "metadata": {},
     "output_type": "execute_result"
    }
   ],
   "source": [
    "clean_payments()"
   ]
  },
  {
   "cell_type": "code",
   "execution_count": 9,
   "id": "2d67f89a",
   "metadata": {},
   "outputs": [],
   "source": [
    "pay_sum_by_order = df_payments.groupby(\"order_id\")[\"payment_value\"].sum().reset_index()\n",
    "pay_sum_by_order.rename(columns={\"payment_value\": \"pay_sum\"}, inplace=True)\n"
   ]
  },
  {
   "cell_type": "code",
   "execution_count": 12,
   "id": "478ead10",
   "metadata": {},
   "outputs": [],
   "source": [
    "item_sum_by_order = df_order_items.groupby(\"order_id\")[[\"price\", \"freight_value\"]].sum().reset_index()\n",
    "item_sum_by_order[\"item_sum\"] = item_sum_by_order[\"price\"] + item_sum_by_order[\"freight_value\"]\n"
   ]
  },
  {
   "cell_type": "code",
   "execution_count": 14,
   "id": "a4247288",
   "metadata": {},
   "outputs": [],
   "source": [
    "df_check = pd.merge(item_sum_by_order, pay_sum_by_order, on=\"order_id\", how=\"inner\")\n",
    "df_check[\"diff\"] = df_check[\"item_sum\"] - df_check[\"pay_sum\"]\n",
    "\n"
   ]
  },
  {
   "cell_type": "code",
   "execution_count": 15,
   "id": "84d55c6d",
   "metadata": {},
   "outputs": [
    {
     "name": "stdout",
     "output_type": "stream",
     "text": [
      "Tổng số đơn hàng: 98665\n",
      "Đơn hàng khớp: 79051\n",
      "Đơn hàng lệch: 19614\n",
      "\n",
      "Phân phối diff:\n",
      "count    98665.000000\n",
      "mean        -0.029092\n",
      "std          1.129221\n",
      "min       -182.810000\n",
      "25%          0.000000\n",
      "50%          0.000000\n",
      "75%          0.000000\n",
      "max         51.620000\n",
      "Name: diff, dtype: float64\n",
      "\n",
      "Số đơn lệch nhỏ (<= 1): 98416\n",
      "\n",
      "Top 10 đơn hàng lệch lớn nhất:\n",
      "                               order_id  item_sum  pay_sum    diff\n",
      "79537  ce6d150fb29ada17d2082f4847107665   1403.66  1586.47 -182.81\n",
      "42515  6e5fe7366a2e1bfbf3257dba0af1267f    287.91   406.92 -119.01\n",
      "43434  70b742795bc441e94a44a084b6d9ce7a    466.93   578.82 -111.89\n",
      "58752  996c7e73600ad3723e8627ab7bef81e4    587.90   664.43  -76.53\n",
      "43437  70b7e94ea46d3e8b5bc12a50186edaf0    213.15   274.84  -61.69\n",
      "72496  bc2c82b0ef78d2252b6176d1972db7c9    242.01   303.02  -61.01\n",
      "67466  af9ffff2ce6b3defd34fd4c78857a379    413.17   466.97  -53.80\n",
      "14628  262118ce178bb3e4590a3adcf6d62e6b    177.74   126.12   51.62\n",
      "73899  bfdb5bbb06458d600a33d61f5f287472    348.93   394.36  -45.43\n",
      "54305  8d9c0dc8d5a2ce804f6b925d8f8e6c1d    254.45   293.89  -39.44\n"
     ]
    }
   ],
   "source": [
    "\n",
    "print(\"Tổng số đơn hàng:\", len(df_check))\n",
    "print(\"Đơn hàng khớp:\", (df_check[\"diff\"] == 0).sum())\n",
    "print(\"Đơn hàng lệch:\", (df_check[\"diff\"] != 0).sum())\n",
    "\n",
    "print(\"\\nPhân phối diff:\")\n",
    "print(df_check[\"diff\"].describe())\n",
    "\n",
    "\n",
    "small_diff = (df_check[\"diff\"].abs() <= 1).sum()\n",
    "print(\"\\nSố đơn lệch nhỏ (<= 1):\", small_diff)\n",
    "\n",
    "\n",
    "print(\"\\nTop 10 đơn hàng lệch lớn nhất:\")\n",
    "print(df_check.loc[df_check[\"diff\"].abs().nlargest(10).index, [\"order_id\", \"item_sum\", \"pay_sum\", \"diff\"]])\n"
   ]
  },
  {
   "cell_type": "code",
   "execution_count": 67,
   "id": "9640949b",
   "metadata": {},
   "outputs": [],
   "source": [
    "def validate_payments_vs_items(df_items, df_payments, threshold=10):\n",
    "\n",
    "\n",
    "    item_sum_by_order = (\n",
    "        df_items.groupby(\"order_id\")[[\"price\", \"freight_value\"]]\n",
    "        .sum()\n",
    "        .reset_index()\n",
    "    )\n",
    "    item_sum_by_order[\"item_sum\"] = item_sum_by_order[\"price\"] + item_sum_by_order[\"freight_value\"]\n",
    "\n",
    "\n",
    "    pay_sum_by_order = (\n",
    "        df_payments.groupby(\"order_id\")[\"payment_value\"]\n",
    "        .sum()\n",
    "        .reset_index()\n",
    "        .rename(columns={\"payment_value\": \"pay_sum\"})\n",
    "    )\n",
    "\n",
    "\n",
    "    df_check = pd.merge(item_sum_by_order, pay_sum_by_order, on=\"order_id\", how=\"inner\")\n",
    "\n",
    "\n",
    "    df_check[\"payment_item_diff\"] = df_check[\"item_sum\"] - df_check[\"pay_sum\"]\n",
    "\n",
    "\n",
    "    df_check[\"payment_item_anomaly\"] = (df_check[\"payment_item_diff\"].abs() > threshold).astype(int)\n",
    "\n",
    "\n",
    "    df_check.to_parquet(\n",
    "        f\"s3://{MINIO_BUCKET}/silver/payments_check.parquet\",\n",
    "        index=False,\n",
    "        storage_options=STORAGE_OPTIONS\n",
    "    )\n",
    "\n",
    "    print(\"Đã tạo bảng đối chiếu payments_check\")\n",
    "    return df_check.head()\n"
   ]
  },
  {
   "cell_type": "code",
   "execution_count": 68,
   "id": "cd81e78d",
   "metadata": {},
   "outputs": [
    {
     "name": "stdout",
     "output_type": "stream",
     "text": [
      "Đã tạo bảng đối chiếu payments_check\n"
     ]
    },
    {
     "data": {
      "text/html": [
       "<div>\n",
       "<style scoped>\n",
       "    .dataframe tbody tr th:only-of-type {\n",
       "        vertical-align: middle;\n",
       "    }\n",
       "\n",
       "    .dataframe tbody tr th {\n",
       "        vertical-align: top;\n",
       "    }\n",
       "\n",
       "    .dataframe thead th {\n",
       "        text-align: right;\n",
       "    }\n",
       "</style>\n",
       "<table border=\"1\" class=\"dataframe\">\n",
       "  <thead>\n",
       "    <tr style=\"text-align: right;\">\n",
       "      <th></th>\n",
       "      <th>order_id</th>\n",
       "      <th>price</th>\n",
       "      <th>freight_value</th>\n",
       "      <th>item_sum</th>\n",
       "      <th>pay_sum</th>\n",
       "      <th>payment_item_diff</th>\n",
       "      <th>payment_item_anomaly</th>\n",
       "    </tr>\n",
       "  </thead>\n",
       "  <tbody>\n",
       "    <tr>\n",
       "      <th>0</th>\n",
       "      <td>00010242fe8c5a6d1ba2dd792cb16214</td>\n",
       "      <td>58.90</td>\n",
       "      <td>13.29</td>\n",
       "      <td>72.19</td>\n",
       "      <td>72.19</td>\n",
       "      <td>0.000000e+00</td>\n",
       "      <td>0</td>\n",
       "    </tr>\n",
       "    <tr>\n",
       "      <th>1</th>\n",
       "      <td>00018f77f2f0320c557190d7a144bdd3</td>\n",
       "      <td>239.90</td>\n",
       "      <td>19.93</td>\n",
       "      <td>259.83</td>\n",
       "      <td>259.83</td>\n",
       "      <td>0.000000e+00</td>\n",
       "      <td>0</td>\n",
       "    </tr>\n",
       "    <tr>\n",
       "      <th>2</th>\n",
       "      <td>000229ec398224ef6ca0657da4fc703e</td>\n",
       "      <td>199.00</td>\n",
       "      <td>17.87</td>\n",
       "      <td>216.87</td>\n",
       "      <td>216.87</td>\n",
       "      <td>0.000000e+00</td>\n",
       "      <td>0</td>\n",
       "    </tr>\n",
       "    <tr>\n",
       "      <th>3</th>\n",
       "      <td>00024acbcdf0a6daa1e931b038114c75</td>\n",
       "      <td>12.99</td>\n",
       "      <td>12.79</td>\n",
       "      <td>25.78</td>\n",
       "      <td>25.78</td>\n",
       "      <td>0.000000e+00</td>\n",
       "      <td>0</td>\n",
       "    </tr>\n",
       "    <tr>\n",
       "      <th>4</th>\n",
       "      <td>00042b26cf59d7ce69dfabb4e55b4fd9</td>\n",
       "      <td>199.90</td>\n",
       "      <td>18.14</td>\n",
       "      <td>218.04</td>\n",
       "      <td>218.04</td>\n",
       "      <td>2.842171e-14</td>\n",
       "      <td>0</td>\n",
       "    </tr>\n",
       "  </tbody>\n",
       "</table>\n",
       "</div>"
      ],
      "text/plain": [
       "                           order_id   price  freight_value  item_sum  pay_sum  \\\n",
       "0  00010242fe8c5a6d1ba2dd792cb16214   58.90          13.29     72.19    72.19   \n",
       "1  00018f77f2f0320c557190d7a144bdd3  239.90          19.93    259.83   259.83   \n",
       "2  000229ec398224ef6ca0657da4fc703e  199.00          17.87    216.87   216.87   \n",
       "3  00024acbcdf0a6daa1e931b038114c75   12.99          12.79     25.78    25.78   \n",
       "4  00042b26cf59d7ce69dfabb4e55b4fd9  199.90          18.14    218.04   218.04   \n",
       "\n",
       "   payment_item_diff  payment_item_anomaly  \n",
       "0       0.000000e+00                     0  \n",
       "1       0.000000e+00                     0  \n",
       "2       0.000000e+00                     0  \n",
       "3       0.000000e+00                     0  \n",
       "4       2.842171e-14                     0  "
      ]
     },
     "execution_count": 68,
     "metadata": {},
     "output_type": "execute_result"
    }
   ],
   "source": [
    "validate_payments_vs_items(df_order_items,df_payments)"
   ]
  },
  {
   "cell_type": "code",
   "execution_count": 69,
   "id": "fd2320cf",
   "metadata": {},
   "outputs": [],
   "source": [
    "df_reviews = pd.read_csv(\n",
    "    f\"s3://{MINIO_BUCKET}/raw/olist_order_reviews_dataset.csv\",\n",
    "    storage_options=STORAGE_OPTIONS\n",
    ")"
   ]
  },
  {
   "cell_type": "code",
   "execution_count": 70,
   "id": "dc59dcf7",
   "metadata": {},
   "outputs": [
    {
     "name": "stdout",
     "output_type": "stream",
     "text": [
      "Kích thước: (99224, 7)\n",
      "\n",
      "Kiểu dữ liệu:\n",
      "review_id                  object\n",
      "order_id                   object\n",
      "review_score                int64\n",
      "review_comment_title       object\n",
      "review_comment_message     object\n",
      "review_creation_date       object\n",
      "review_answer_timestamp    object\n",
      "dtype: object\n"
     ]
    }
   ],
   "source": [
    "print(\"Kích thước:\", df_reviews.shape)\n",
    "print(\"\\nKiểu dữ liệu:\")\n",
    "print(df_reviews.dtypes)\n"
   ]
  },
  {
   "cell_type": "code",
   "execution_count": 71,
   "id": "f7ed235a",
   "metadata": {},
   "outputs": [
    {
     "name": "stdout",
     "output_type": "stream",
     "text": [
      "\n",
      "Số lượng null theo cột:\n",
      "review_id                      0\n",
      "order_id                       0\n",
      "review_score                   0\n",
      "review_comment_title       87656\n",
      "review_comment_message     58247\n",
      "review_creation_date           0\n",
      "review_answer_timestamp        0\n",
      "dtype: int64\n"
     ]
    }
   ],
   "source": [
    "print(\"\\nSố lượng null theo cột:\")\n",
    "print(df_reviews.isna().sum())\n"
   ]
  },
  {
   "cell_type": "code",
   "execution_count": 26,
   "id": "b2d87116",
   "metadata": {},
   "outputs": [
    {
     "name": "stdout",
     "output_type": "stream",
     "text": [
      "\n",
      "Số lượng review_id trùng lặp: 814\n"
     ]
    }
   ],
   "source": [
    "print(\"\\nSố lượng review_id trùng lặp:\", df_reviews[\"review_id\"].duplicated().sum())\n"
   ]
  },
  {
   "cell_type": "code",
   "execution_count": 27,
   "id": "a08bbe55",
   "metadata": {},
   "outputs": [
    {
     "name": "stdout",
     "output_type": "stream",
     "text": [
      "\n",
      "Phân phối review_score:\n",
      "review_score\n",
      "1    11424\n",
      "2     3151\n",
      "3     8179\n",
      "4    19142\n",
      "5    57328\n",
      "Name: count, dtype: int64\n"
     ]
    }
   ],
   "source": [
    "print(\"\\nPhân phối review_score:\")\n",
    "print(df_reviews[\"review_score\"].value_counts(dropna=False).sort_index())\n"
   ]
  },
  {
   "cell_type": "code",
   "execution_count": 28,
   "id": "35f0072b",
   "metadata": {},
   "outputs": [
    {
     "name": "stdout",
     "output_type": "stream",
     "text": [
      "\n",
      "Kiểm tra giá trị ngày tháng không hợp lệ:\n",
      "Số bản ghi ngày tạo null: 0\n",
      "Số bản ghi ngày phản hồi null: 0\n",
      "Số bản ghi có creation_date > answer_timestamp: 0\n"
     ]
    }
   ],
   "source": [
    "print(\"\\nKiểm tra giá trị ngày tháng không hợp lệ:\")\n",
    "df_reviews[\"review_creation_date\"] = pd.to_datetime(df_reviews[\"review_creation_date\"], errors=\"coerce\")\n",
    "df_reviews[\"review_answer_timestamp\"] = pd.to_datetime(df_reviews[\"review_answer_timestamp\"], errors=\"coerce\")\n",
    "print(\"Số bản ghi ngày tạo null:\", df_reviews[\"review_creation_date\"].isna().sum())\n",
    "print(\"Số bản ghi ngày phản hồi null:\", df_reviews[\"review_answer_timestamp\"].isna().sum())\n",
    "print(\"Số bản ghi có creation_date > answer_timestamp:\", (df_reviews[\"review_creation_date\"] > df_reviews[\"review_answer_timestamp\"]).sum())\n"
   ]
  },
  {
   "cell_type": "code",
   "execution_count": 29,
   "id": "999c9f8f",
   "metadata": {},
   "outputs": [
    {
     "name": "stdout",
     "output_type": "stream",
     "text": [
      "\n",
      "Số đơn hàng có nhiều review: 547\n",
      "Ví dụ order có nhiều review:\n",
      "order_id\n",
      "0035246a40f520710769010f752e7507    2\n",
      "013056cfe49763c6f66bda03396c5ee3    2\n",
      "0176a6846bcb3b0d3aa3116a9a768597    2\n",
      "02355020fd0a40a0d56df9f6ff060413    2\n",
      "029863af4b968de1e5d6a82782e662f5    2\n",
      "02e0b68852217f5715fb9cc885829454    2\n",
      "02e723e8edb4a123d414f56cc9c4665e    2\n",
      "03515a836bb855b03f7df9dee520a8fc    2\n",
      "03c939fd7fd3b38f8485a0f95798f1f6    3\n",
      "03eba6d9fef8f5b3e811d4b5a7cca9cd    2\n",
      "Name: review_id, dtype: int64\n"
     ]
    }
   ],
   "source": [
    "multi_review = df_reviews.groupby(\"order_id\")[\"review_id\"].count()\n",
    "print(\"\\nSố đơn hàng có nhiều review:\", (multi_review > 1).sum())\n",
    "print(\"Ví dụ order có nhiều review:\")\n",
    "print(multi_review[multi_review > 1].head(10))"
   ]
  },
  {
   "cell_type": "code",
   "execution_count": 30,
   "id": "2b9aa3ae",
   "metadata": {},
   "outputs": [],
   "source": [
    "def clean_reviews():\n",
    "\n",
    "    df = pd.read_csv(\n",
    "        f\"s3://{MINIO_BUCKET}/raw/olist_order_reviews_dataset.csv\",\n",
    "        storage_options=STORAGE_OPTIONS\n",
    "    )\n",
    "\n",
    "    df[\"review_creation_date\"] = pd.to_datetime(df[\"review_creation_date\"], errors=\"coerce\", utc=True)\n",
    "    df[\"review_answer_timestamp\"] = pd.to_datetime(df[\"review_answer_timestamp\"], errors=\"coerce\", utc=True)\n",
    "\n",
    "    df = df.sort_values(\"review_answer_timestamp\")\n",
    "    df = df.drop_duplicates(subset=[\"review_id\"], keep=\"last\")\n",
    "\n",
    "    df = df.drop_duplicates(subset=[\"order_id\"], keep=\"last\")\n",
    "\n",
    "\n",
    "    for col in [\"review_comment_title\", \"review_comment_message\"]:\n",
    "        df[col] = df[col].astype(str).str.strip().replace(\"nan\", np.nan)\n",
    "\n",
    "    df.to_parquet(\n",
    "        f\"s3://{MINIO_BUCKET}/silver/reviews.parquet\",\n",
    "        index=False,\n",
    "        storage_options=STORAGE_OPTIONS\n",
    "    )\n",
    "\n",
    "    print(\"reviews → silver (cleaned)\")\n",
    "    return df.head()"
   ]
  },
  {
   "cell_type": "code",
   "execution_count": 31,
   "id": "07e38516",
   "metadata": {},
   "outputs": [
    {
     "name": "stdout",
     "output_type": "stream",
     "text": [
      "reviews → silver (cleaned)\n"
     ]
    },
    {
     "data": {
      "text/html": [
       "<div>\n",
       "<style scoped>\n",
       "    .dataframe tbody tr th:only-of-type {\n",
       "        vertical-align: middle;\n",
       "    }\n",
       "\n",
       "    .dataframe tbody tr th {\n",
       "        vertical-align: top;\n",
       "    }\n",
       "\n",
       "    .dataframe thead th {\n",
       "        text-align: right;\n",
       "    }\n",
       "</style>\n",
       "<table border=\"1\" class=\"dataframe\">\n",
       "  <thead>\n",
       "    <tr style=\"text-align: right;\">\n",
       "      <th></th>\n",
       "      <th>review_id</th>\n",
       "      <th>order_id</th>\n",
       "      <th>review_score</th>\n",
       "      <th>review_comment_title</th>\n",
       "      <th>review_comment_message</th>\n",
       "      <th>review_creation_date</th>\n",
       "      <th>review_answer_timestamp</th>\n",
       "    </tr>\n",
       "  </thead>\n",
       "  <tbody>\n",
       "    <tr>\n",
       "      <th>37547</th>\n",
       "      <td>6916ca4502d6d3bfd39818759d55d536</td>\n",
       "      <td>bfbd0f9bdef84302105ad712db648a6c</td>\n",
       "      <td>1</td>\n",
       "      <td>NaN</td>\n",
       "      <td>nao recebi o produto e nem resposta da empresa</td>\n",
       "      <td>2016-10-06 00:00:00+00:00</td>\n",
       "      <td>2016-10-07 18:32:28+00:00</td>\n",
       "    </tr>\n",
       "    <tr>\n",
       "      <th>5503</th>\n",
       "      <td>49f695dffa457eaba90d388a5c37e942</td>\n",
       "      <td>e5215415bb6f76fe3b7cb68103a0d1c0</td>\n",
       "      <td>1</td>\n",
       "      <td>NaN</td>\n",
       "      <td>PRODUTO NÃO CHEGOU,E JÁ PASSOU O PRAZO DE ENTREGA</td>\n",
       "      <td>2016-10-09 00:00:00+00:00</td>\n",
       "      <td>2016-10-11 14:31:29+00:00</td>\n",
       "    </tr>\n",
       "    <tr>\n",
       "      <th>60439</th>\n",
       "      <td>743d98b1a4782f0646898fc915ef002a</td>\n",
       "      <td>e2144124f98f3bf46939bc5183104041</td>\n",
       "      <td>4</td>\n",
       "      <td>NaN</td>\n",
       "      <td>NaN</td>\n",
       "      <td>2016-10-15 00:00:00+00:00</td>\n",
       "      <td>2016-10-16 03:20:17+00:00</td>\n",
       "    </tr>\n",
       "    <tr>\n",
       "      <th>28075</th>\n",
       "      <td>53752edb26544dd41c1209f582c9c589</td>\n",
       "      <td>b8b9d7046c083150cb5360b83a8ebb51</td>\n",
       "      <td>5</td>\n",
       "      <td>NaN</td>\n",
       "      <td>O pedido foi entregue antes do prazo pr0metido</td>\n",
       "      <td>2016-10-16 01:00:00+00:00</td>\n",
       "      <td>2016-10-16 15:45:11+00:00</td>\n",
       "    </tr>\n",
       "    <tr>\n",
       "      <th>41042</th>\n",
       "      <td>b2d5d8db2a841d27a72e4c06c6212368</td>\n",
       "      <td>9aa3197e4887919fde0307fc23601d7a</td>\n",
       "      <td>4</td>\n",
       "      <td>NaN</td>\n",
       "      <td>Só chegou uma parte do pedido ate agora..</td>\n",
       "      <td>2016-10-15 00:00:00+00:00</td>\n",
       "      <td>2016-10-17 21:02:49+00:00</td>\n",
       "    </tr>\n",
       "  </tbody>\n",
       "</table>\n",
       "</div>"
      ],
      "text/plain": [
       "                              review_id                          order_id  \\\n",
       "37547  6916ca4502d6d3bfd39818759d55d536  bfbd0f9bdef84302105ad712db648a6c   \n",
       "5503   49f695dffa457eaba90d388a5c37e942  e5215415bb6f76fe3b7cb68103a0d1c0   \n",
       "60439  743d98b1a4782f0646898fc915ef002a  e2144124f98f3bf46939bc5183104041   \n",
       "28075  53752edb26544dd41c1209f582c9c589  b8b9d7046c083150cb5360b83a8ebb51   \n",
       "41042  b2d5d8db2a841d27a72e4c06c6212368  9aa3197e4887919fde0307fc23601d7a   \n",
       "\n",
       "       review_score review_comment_title  \\\n",
       "37547             1                  NaN   \n",
       "5503              1                  NaN   \n",
       "60439             4                  NaN   \n",
       "28075             5                  NaN   \n",
       "41042             4                  NaN   \n",
       "\n",
       "                                  review_comment_message  \\\n",
       "37547     nao recebi o produto e nem resposta da empresa   \n",
       "5503   PRODUTO NÃO CHEGOU,E JÁ PASSOU O PRAZO DE ENTREGA   \n",
       "60439                                                NaN   \n",
       "28075     O pedido foi entregue antes do prazo pr0metido   \n",
       "41042          Só chegou uma parte do pedido ate agora..   \n",
       "\n",
       "           review_creation_date   review_answer_timestamp  \n",
       "37547 2016-10-06 00:00:00+00:00 2016-10-07 18:32:28+00:00  \n",
       "5503  2016-10-09 00:00:00+00:00 2016-10-11 14:31:29+00:00  \n",
       "60439 2016-10-15 00:00:00+00:00 2016-10-16 03:20:17+00:00  \n",
       "28075 2016-10-16 01:00:00+00:00 2016-10-16 15:45:11+00:00  \n",
       "41042 2016-10-15 00:00:00+00:00 2016-10-17 21:02:49+00:00  "
      ]
     },
     "execution_count": 31,
     "metadata": {},
     "output_type": "execute_result"
    }
   ],
   "source": [
    "clean_reviews()"
   ]
  },
  {
   "cell_type": "code",
   "execution_count": 32,
   "id": "3b9d30a2",
   "metadata": {},
   "outputs": [],
   "source": [
    "df_geo = pd.read_csv(\n",
    "    f\"s3://{MINIO_BUCKET}/raw/olist_geolocation_dataset.csv\",\n",
    "    storage_options=STORAGE_OPTIONS\n",
    ")"
   ]
  },
  {
   "cell_type": "code",
   "execution_count": 33,
   "id": "5bc6bbeb",
   "metadata": {},
   "outputs": [
    {
     "name": "stdout",
     "output_type": "stream",
     "text": [
      "Kích thước: (1000163, 5)\n",
      "\n",
      "Kiểu dữ liệu:\n",
      "geolocation_zip_code_prefix      int64\n",
      "geolocation_lat                float64\n",
      "geolocation_lng                float64\n",
      "geolocation_city                object\n",
      "geolocation_state               object\n",
      "dtype: object\n",
      "\n",
      "Số lượng null theo cột:\n",
      "geolocation_zip_code_prefix    0\n",
      "geolocation_lat                0\n",
      "geolocation_lng                0\n",
      "geolocation_city               0\n",
      "geolocation_state              0\n",
      "dtype: int64\n"
     ]
    }
   ],
   "source": [
    "print(\"Kích thước:\", df_geo.shape)\n",
    "print(\"\\nKiểu dữ liệu:\")\n",
    "print(df_geo.dtypes)\n",
    "\n",
    "# 2. Null values\n",
    "print(\"\\nSố lượng null theo cột:\")\n",
    "print(df_geo.isna().sum())"
   ]
  },
  {
   "cell_type": "code",
   "execution_count": 34,
   "id": "9b3aa147",
   "metadata": {},
   "outputs": [
    {
     "name": "stdout",
     "output_type": "stream",
     "text": [
      "\n",
      "Số bản ghi trùng lặp hoàn toàn: 261831\n"
     ]
    }
   ],
   "source": [
    "print(\"\\nSố bản ghi trùng lặp hoàn toàn:\", df_geo.duplicated().sum())\n"
   ]
  },
  {
   "cell_type": "code",
   "execution_count": 35,
   "id": "635ec24c",
   "metadata": {},
   "outputs": [
    {
     "name": "stdout",
     "output_type": "stream",
     "text": [
      "\n",
      "Số zip_code_prefix xuất hiện nhiều hơn 1 lần: 17972\n",
      "Ví dụ zip_code_prefix trùng:\n",
      "   geolocation_zip_code_prefix  count\n",
      "0                         1001     26\n",
      "1                         1002     13\n",
      "2                         1003     17\n",
      "3                         1004     22\n",
      "4                         1005     25\n",
      "5                         1006      9\n",
      "6                         1007     26\n",
      "7                         1008     16\n",
      "8                         1009     41\n",
      "9                         1010     18\n"
     ]
    }
   ],
   "source": [
    "dup_zip = df_geo.groupby(\"geolocation_zip_code_prefix\").size().reset_index(name=\"count\")\n",
    "print(\"\\nSố zip_code_prefix xuất hiện nhiều hơn 1 lần:\", (dup_zip[\"count\"] > 1).sum())\n",
    "print(\"Ví dụ zip_code_prefix trùng:\")\n",
    "print(dup_zip[dup_zip[\"count\"] > 1].head(10))\n"
   ]
  },
  {
   "cell_type": "code",
   "execution_count": 36,
   "id": "fb15b5b7",
   "metadata": {},
   "outputs": [
    {
     "name": "stdout",
     "output_type": "stream",
     "text": [
      "\n",
      "Số city duy nhất trước chuẩn hóa: 8011\n",
      "Ví dụ city: ['sao paulo', 'rio de janeiro', 'franca', 'brasilia', 'tatui', 'joao pinheiro', 'caraguatatuba', 'embu das artes', 'sao paulo', 'jacui']\n",
      "\n",
      "Số state duy nhất: 27\n",
      "Danh sách state: ['SP' 'RN' 'AC' 'RJ' 'ES' 'MG' 'BA' 'SE' 'PE' 'AL' 'PB' 'CE' 'PI' 'MA'\n",
      " 'PA' 'AP' 'AM' 'RR' 'DF' 'GO' 'RO' 'TO' 'MT' 'MS' 'RS' 'PR' 'SC']\n"
     ]
    }
   ],
   "source": [
    "print(\"\\nSố city duy nhất trước chuẩn hóa:\", df_geo[\"geolocation_city\"].nunique())\n",
    "print(\"Ví dụ city:\", df_geo[\"geolocation_city\"].sample(10).tolist())\n",
    "print(\"\\nSố state duy nhất:\", df_geo[\"geolocation_state\"].nunique())\n",
    "print(\"Danh sách state:\", df_geo[\"geolocation_state\"].unique())"
   ]
  },
  {
   "cell_type": "code",
   "execution_count": 96,
   "id": "dab2f88c",
   "metadata": {},
   "outputs": [],
   "source": [
    "\n",
    "def clean_geolocation():\n",
    "\n",
    "    df = pd.read_csv(\n",
    "        f\"s3://{MINIO_BUCKET}/raw/olist_geolocation_dataset.csv\",\n",
    "        storage_options=STORAGE_OPTIONS\n",
    "    )\n",
    "\n",
    "\n",
    "    before = df.shape[0]\n",
    "    df = df.drop_duplicates()\n",
    "    after = df.shape[0]\n",
    "    print(f\"Đã loại bỏ {before - after} bản ghi trùng lặp hoàn toàn\")\n",
    "\n",
    "\n",
    "    df[\"geolocation_city\"] = (\n",
    "        df[\"geolocation_city\"]\n",
    "        .str.lower()\n",
    "        .str.strip()\n",
    "    )\n",
    "    df[\"geolocation_zip_code_prefix\"] = (df[\"geolocation_zip_code_prefix\"].astype(str).str.zfill(5))\n",
    "    \n",
    "    df.to_parquet(\n",
    "        f\"s3://{MINIO_BUCKET}/silver/geolocation.parquet\",\n",
    "        index=False,\n",
    "        storage_options=STORAGE_OPTIONS\n",
    "    )\n",
    "\n",
    "    print(\"geolocation → silver (cleaned)\")\n",
    "    return df.head()"
   ]
  },
  {
   "cell_type": "code",
   "execution_count": 97,
   "id": "d279d752",
   "metadata": {},
   "outputs": [
    {
     "name": "stdout",
     "output_type": "stream",
     "text": [
      "Đã loại bỏ 261831 bản ghi trùng lặp hoàn toàn\n",
      "geolocation → silver (cleaned)\n"
     ]
    },
    {
     "data": {
      "text/html": [
       "<div>\n",
       "<style scoped>\n",
       "    .dataframe tbody tr th:only-of-type {\n",
       "        vertical-align: middle;\n",
       "    }\n",
       "\n",
       "    .dataframe tbody tr th {\n",
       "        vertical-align: top;\n",
       "    }\n",
       "\n",
       "    .dataframe thead th {\n",
       "        text-align: right;\n",
       "    }\n",
       "</style>\n",
       "<table border=\"1\" class=\"dataframe\">\n",
       "  <thead>\n",
       "    <tr style=\"text-align: right;\">\n",
       "      <th></th>\n",
       "      <th>geolocation_zip_code_prefix</th>\n",
       "      <th>geolocation_lat</th>\n",
       "      <th>geolocation_lng</th>\n",
       "      <th>geolocation_city</th>\n",
       "      <th>geolocation_state</th>\n",
       "    </tr>\n",
       "  </thead>\n",
       "  <tbody>\n",
       "    <tr>\n",
       "      <th>0</th>\n",
       "      <td>01037</td>\n",
       "      <td>-23.545621</td>\n",
       "      <td>-46.639292</td>\n",
       "      <td>sao paulo</td>\n",
       "      <td>SP</td>\n",
       "    </tr>\n",
       "    <tr>\n",
       "      <th>1</th>\n",
       "      <td>01046</td>\n",
       "      <td>-23.546081</td>\n",
       "      <td>-46.644820</td>\n",
       "      <td>sao paulo</td>\n",
       "      <td>SP</td>\n",
       "    </tr>\n",
       "    <tr>\n",
       "      <th>2</th>\n",
       "      <td>01046</td>\n",
       "      <td>-23.546129</td>\n",
       "      <td>-46.642951</td>\n",
       "      <td>sao paulo</td>\n",
       "      <td>SP</td>\n",
       "    </tr>\n",
       "    <tr>\n",
       "      <th>3</th>\n",
       "      <td>01041</td>\n",
       "      <td>-23.544392</td>\n",
       "      <td>-46.639499</td>\n",
       "      <td>sao paulo</td>\n",
       "      <td>SP</td>\n",
       "    </tr>\n",
       "    <tr>\n",
       "      <th>4</th>\n",
       "      <td>01035</td>\n",
       "      <td>-23.541578</td>\n",
       "      <td>-46.641607</td>\n",
       "      <td>sao paulo</td>\n",
       "      <td>SP</td>\n",
       "    </tr>\n",
       "  </tbody>\n",
       "</table>\n",
       "</div>"
      ],
      "text/plain": [
       "  geolocation_zip_code_prefix  geolocation_lat  geolocation_lng  \\\n",
       "0                       01037       -23.545621       -46.639292   \n",
       "1                       01046       -23.546081       -46.644820   \n",
       "2                       01046       -23.546129       -46.642951   \n",
       "3                       01041       -23.544392       -46.639499   \n",
       "4                       01035       -23.541578       -46.641607   \n",
       "\n",
       "  geolocation_city geolocation_state  \n",
       "0        sao paulo                SP  \n",
       "1        sao paulo                SP  \n",
       "2        sao paulo                SP  \n",
       "3        sao paulo                SP  \n",
       "4        sao paulo                SP  "
      ]
     },
     "execution_count": 97,
     "metadata": {},
     "output_type": "execute_result"
    }
   ],
   "source": [
    "clean_geolocation()"
   ]
  },
  {
   "cell_type": "code",
   "execution_count": 72,
   "id": "bee29409",
   "metadata": {},
   "outputs": [],
   "source": [
    "import json \n",
    "def normalize_sample(val):\n",
    "    if isinstance(val, pd.Series) or isinstance(val, np.ndarray):\n",
    "        val = val.tolist()\n",
    "    if val is None:\n",
    "        val = []\n",
    "    if not isinstance(val, str):\n",
    "        val = json.dumps(val, ensure_ascii=False)\n",
    "    return val\n"
   ]
  },
  {
   "cell_type": "code",
   "execution_count": 116,
   "id": "6e34cd16",
   "metadata": {},
   "outputs": [],
   "source": [
    "def load_silver_tables():\n",
    "    silver_paths = {\n",
    "        \"orders\": \"orders.parquet\",\n",
    "        \"customers\": \"customers.parquet\",\n",
    "        \"order_items\": \"order_items.parquet\",\n",
    "        \"products\": \"products.parquet\",\n",
    "        \"sellers\": \"sellers.parquet\",\n",
    "        \"payments\": \"payments.parquet\",\n",
    "        \"reviews\": \"reviews.parquet\",\n",
    "        \"geolocation\": \"geolocation.parquet\",\n",
    "    }\n",
    "\n",
    "    tables = {}\n",
    "    for name, file in silver_paths.items():\n",
    "        tables[name] = pd.read_parquet(\n",
    "            f\"s3://{MINIO_BUCKET}/silver/{file}\",\n",
    "            storage_options=STORAGE_OPTIONS\n",
    "        )\n",
    "    return tables\n"
   ]
  },
  {
   "cell_type": "code",
   "execution_count": 127,
   "id": "932ebaae",
   "metadata": {},
   "outputs": [],
   "source": [
    "from datetime import datetime\n",
    "def validate_data(tables: dict):\n",
    "    dq_checks = []\n",
    "\n",
    "    orders = tables[\"orders\"]\n",
    "    customers = tables[\"customers\"]\n",
    "    order_items = tables[\"order_items\"]\n",
    "    products = tables[\"products\"]\n",
    "    sellers = tables[\"sellers\"]\n",
    "    payments = tables[\"payments\"]\n",
    "    reviews = tables[\"reviews\"]\n",
    "    geolocation = tables[\"geolocation\"]\n",
    "\n",
    "    invalid_orders = orders[~orders[\"customer_id\"].isin(customers[\"customer_id\"])]\n",
    "    dq_checks.append({\n",
    "        \"check_name\": \"orders_customer_fk\",\n",
    "        \"table_name\": \"orders\",\n",
    "        \"status\": \"FAILED\" if not invalid_orders.empty else \"PASSED\",\n",
    "        \"num_violations\": len(invalid_orders),\n",
    "        \"sample_records\": invalid_orders[\"order_id\"].head(5).tolist()\n",
    "    })\n",
    "\n",
    "    invalid_items_order = order_items[~order_items[\"order_id\"].isin(orders[\"order_id\"])]\n",
    "    dq_checks.append({\n",
    "        \"check_name\": \"order_items_order_fk\",\n",
    "        \"table_name\": \"order_items\",\n",
    "        \"status\": \"FAILED\" if not invalid_items_order.empty else \"PASSED\",\n",
    "        \"num_violations\": len(invalid_items_order),\n",
    "        \"sample_records\": invalid_items_order[\"order_id\"].head(5).tolist()\n",
    "    })\n",
    "\n",
    "    invalid_items_seller = order_items[~order_items[\"seller_id\"].isin(sellers[\"seller_id\"])]\n",
    "    dq_checks.append({\n",
    "        \"check_name\": \"order_items_seller_fk\",\n",
    "        \"table_name\": \"order_items\",\n",
    "        \"status\": \"FAILED\" if not invalid_items_seller.empty else \"PASSED\",\n",
    "        \"num_violations\": len(invalid_items_seller),\n",
    "        \"sample_records\": invalid_items_seller[\"seller_id\"].head(5).tolist()\n",
    "    })\n",
    "\n",
    "    invalid_items_product = order_items[~order_items[\"product_id\"].isin(products[\"product_id\"])]\n",
    "    dq_checks.append({\n",
    "        \"check_name\": \"order_items_product_fk\",\n",
    "        \"table_name\": \"order_items\",\n",
    "        \"status\": \"FAILED\" if not invalid_items_product.empty else \"PASSED\",\n",
    "        \"num_violations\": len(invalid_items_product),\n",
    "        \"sample_records\": invalid_items_product[\"product_id\"].head(5).tolist()\n",
    "    })\n",
    "\n",
    "    invalid_payments = payments[~payments[\"order_id\"].isin(orders[\"order_id\"])]\n",
    "    dq_checks.append({\n",
    "        \"check_name\": \"payments_order_fk\",\n",
    "        \"table_name\": \"order_payments\",\n",
    "        \"status\": \"FAILED\" if not invalid_payments.empty else \"PASSED\",\n",
    "        \"num_violations\": len(invalid_payments),\n",
    "        \"sample_records\": invalid_payments[\"order_id\"].head(5).tolist()\n",
    "    })\n",
    "\n",
    "    invalid_reviews = reviews[~reviews[\"order_id\"].isin(orders[\"order_id\"])]\n",
    "    dq_checks.append({\n",
    "        \"check_name\": \"reviews_order_fk\",\n",
    "        \"table_name\": \"order_reviews\",\n",
    "        \"status\": \"FAILED\" if not invalid_reviews.empty else \"PASSED\",\n",
    "        \"num_violations\": len(invalid_reviews),\n",
    "        \"sample_records\": invalid_reviews[\"order_id\"].head(5).tolist()\n",
    "    })\n",
    "\n",
    "    # Tập zip từ geolocation\n",
    "    geo_zips = set(geolocation[\"geolocation_zip_code_prefix\"].unique())\n",
    "\n",
    "    # Customers zip coverage\n",
    "    customers[\"zip_flag\"] = customers[\"customer_zip_code_prefix\"].isin(geo_zips).astype(int)\n",
    "    invalid_customers_zip = customers[customers[\"zip_flag\"] == 0]\n",
    "\n",
    "    dq_checks.append({\n",
    "        \"check_name\": \"customers_zip_coverage\",\n",
    "        \"table_name\": \"customers\",\n",
    "        \"status\": \"FAILED\" if len(invalid_customers_zip) > 0 else \"PASSED\",\n",
    "        \"num_violations\": len(invalid_customers_zip),\n",
    "        \"coverage_rate\": round(customers[\"zip_flag\"].mean() * 100, 2),  # %\n",
    "        \"sample_records\": invalid_customers_zip[\"customer_id\"].head(5).tolist()\n",
    "    })\n",
    "\n",
    "    # Sellers zip coverage\n",
    "    sellers[\"zip_flag\"] = sellers[\"seller_zip_code_prefix\"].isin(geo_zips).astype(int)\n",
    "    invalid_sellers_zip = sellers[sellers[\"zip_flag\"] == 0]\n",
    "\n",
    "    dq_checks.append({\n",
    "        \"check_name\": \"sellers_zip_coverage\",\n",
    "        \"table_name\": \"sellers\",\n",
    "        \"status\": \"FAILED\" if len(invalid_sellers_zip) > 0 else \"PASSED\",\n",
    "        \"num_violations\": len(invalid_sellers_zip),\n",
    "        \"coverage_rate\": round(sellers[\"zip_flag\"].mean() * 100, 2),\n",
    "        \"sample_records\": invalid_sellers_zip[\"seller_id\"].head(5).tolist()\n",
    "    })\n",
    "\n",
    "\n",
    "    # Consistency: đối chiếu tiền\n",
    "    items_sum = order_items.groupby(\"order_id\")[[\"price\",\"freight_value\"]].sum().sum(axis=1)\n",
    "    payments_sum = payments.groupby(\"order_id\")[\"payment_value\"].sum()\n",
    "    amount_check = pd.concat([items_sum, payments_sum], axis=1).fillna(0)\n",
    "    amount_check.columns = [\"sum_items\", \"sum_payments\"]\n",
    "    amount_check[\"diff\"] = (amount_check[\"sum_items\"] - amount_check[\"sum_payments\"]).abs()\n",
    "    mismatch_orders = amount_check[amount_check[\"diff\"] > 1e-2]\n",
    "    dq_checks.append({\n",
    "        \"check_name\": \"amount_consistency\",\n",
    "        \"table_name\": \"orders\",\n",
    "        \"status\": \"FAILED\" if not mismatch_orders.empty else \"PASSED\",\n",
    "        \"num_violations\": len(mismatch_orders),\n",
    "        \"sample_records\": mismatch_orders.index[:5].tolist()\n",
    "    })\n",
    "\n",
    "    for rec in dq_checks:\n",
    "        rec[\"sample_records\"] = normalize_sample(rec.get(\"sample_records\"))\n",
    "\n",
    "    dq_report = pd.DataFrame(dq_checks)\n",
    "    return dq_report\n"
   ]
  },
  {
   "cell_type": "code",
   "execution_count": 128,
   "id": "1d8868e4",
   "metadata": {},
   "outputs": [],
   "source": [
    "\n",
    "tables = load_silver_tables()"
   ]
  },
  {
   "cell_type": "code",
   "execution_count": 129,
   "id": "87f36902",
   "metadata": {},
   "outputs": [],
   "source": [
    "dq_report = validate_data(tables)\n",
    "\n"
   ]
  },
  {
   "cell_type": "code",
   "execution_count": 130,
   "id": "297b3a07",
   "metadata": {},
   "outputs": [
    {
     "data": {
      "text/html": [
       "<div>\n",
       "<style scoped>\n",
       "    .dataframe tbody tr th:only-of-type {\n",
       "        vertical-align: middle;\n",
       "    }\n",
       "\n",
       "    .dataframe tbody tr th {\n",
       "        vertical-align: top;\n",
       "    }\n",
       "\n",
       "    .dataframe thead th {\n",
       "        text-align: right;\n",
       "    }\n",
       "</style>\n",
       "<table border=\"1\" class=\"dataframe\">\n",
       "  <thead>\n",
       "    <tr style=\"text-align: right;\">\n",
       "      <th></th>\n",
       "      <th>check_name</th>\n",
       "      <th>table_name</th>\n",
       "      <th>status</th>\n",
       "      <th>num_violations</th>\n",
       "      <th>sample_records</th>\n",
       "      <th>coverage_rate</th>\n",
       "    </tr>\n",
       "  </thead>\n",
       "  <tbody>\n",
       "    <tr>\n",
       "      <th>0</th>\n",
       "      <td>orders_customer_fk</td>\n",
       "      <td>orders</td>\n",
       "      <td>PASSED</td>\n",
       "      <td>0</td>\n",
       "      <td>[]</td>\n",
       "      <td>NaN</td>\n",
       "    </tr>\n",
       "    <tr>\n",
       "      <th>1</th>\n",
       "      <td>order_items_order_fk</td>\n",
       "      <td>order_items</td>\n",
       "      <td>PASSED</td>\n",
       "      <td>0</td>\n",
       "      <td>[]</td>\n",
       "      <td>NaN</td>\n",
       "    </tr>\n",
       "    <tr>\n",
       "      <th>2</th>\n",
       "      <td>order_items_seller_fk</td>\n",
       "      <td>order_items</td>\n",
       "      <td>PASSED</td>\n",
       "      <td>0</td>\n",
       "      <td>[]</td>\n",
       "      <td>NaN</td>\n",
       "    </tr>\n",
       "    <tr>\n",
       "      <th>3</th>\n",
       "      <td>order_items_product_fk</td>\n",
       "      <td>order_items</td>\n",
       "      <td>PASSED</td>\n",
       "      <td>0</td>\n",
       "      <td>[]</td>\n",
       "      <td>NaN</td>\n",
       "    </tr>\n",
       "    <tr>\n",
       "      <th>4</th>\n",
       "      <td>payments_order_fk</td>\n",
       "      <td>order_payments</td>\n",
       "      <td>PASSED</td>\n",
       "      <td>0</td>\n",
       "      <td>[]</td>\n",
       "      <td>NaN</td>\n",
       "    </tr>\n",
       "    <tr>\n",
       "      <th>5</th>\n",
       "      <td>reviews_order_fk</td>\n",
       "      <td>order_reviews</td>\n",
       "      <td>PASSED</td>\n",
       "      <td>0</td>\n",
       "      <td>[]</td>\n",
       "      <td>NaN</td>\n",
       "    </tr>\n",
       "    <tr>\n",
       "      <th>6</th>\n",
       "      <td>customers_zip_coverage</td>\n",
       "      <td>customers</td>\n",
       "      <td>FAILED</td>\n",
       "      <td>278</td>\n",
       "      <td>[\"ecb1725b26e8b8c458181455dfa434ea\", \"bcf86029...</td>\n",
       "      <td>99.72</td>\n",
       "    </tr>\n",
       "    <tr>\n",
       "      <th>7</th>\n",
       "      <td>sellers_zip_coverage</td>\n",
       "      <td>sellers</td>\n",
       "      <td>FAILED</td>\n",
       "      <td>7</td>\n",
       "      <td>[\"5962468f885ea01a1b6a97a218797b0a\", \"2aafae69...</td>\n",
       "      <td>99.77</td>\n",
       "    </tr>\n",
       "    <tr>\n",
       "      <th>8</th>\n",
       "      <td>amount_consistency</td>\n",
       "      <td>orders</td>\n",
       "      <td>FAILED</td>\n",
       "      <td>1154</td>\n",
       "      <td>[\"00789ce015e7e5791c7914f32bb4fad4\", \"01672623...</td>\n",
       "      <td>NaN</td>\n",
       "    </tr>\n",
       "  </tbody>\n",
       "</table>\n",
       "</div>"
      ],
      "text/plain": [
       "               check_name      table_name  status  num_violations  \\\n",
       "0      orders_customer_fk          orders  PASSED               0   \n",
       "1    order_items_order_fk     order_items  PASSED               0   \n",
       "2   order_items_seller_fk     order_items  PASSED               0   \n",
       "3  order_items_product_fk     order_items  PASSED               0   \n",
       "4       payments_order_fk  order_payments  PASSED               0   \n",
       "5        reviews_order_fk   order_reviews  PASSED               0   \n",
       "6  customers_zip_coverage       customers  FAILED             278   \n",
       "7    sellers_zip_coverage         sellers  FAILED               7   \n",
       "8      amount_consistency          orders  FAILED            1154   \n",
       "\n",
       "                                      sample_records  coverage_rate  \n",
       "0                                                 []            NaN  \n",
       "1                                                 []            NaN  \n",
       "2                                                 []            NaN  \n",
       "3                                                 []            NaN  \n",
       "4                                                 []            NaN  \n",
       "5                                                 []            NaN  \n",
       "6  [\"ecb1725b26e8b8c458181455dfa434ea\", \"bcf86029...          99.72  \n",
       "7  [\"5962468f885ea01a1b6a97a218797b0a\", \"2aafae69...          99.77  \n",
       "8  [\"00789ce015e7e5791c7914f32bb4fad4\", \"01672623...            NaN  "
      ]
     },
     "execution_count": 130,
     "metadata": {},
     "output_type": "execute_result"
    }
   ],
   "source": [
    "dq_report"
   ]
  },
  {
   "cell_type": "code",
   "execution_count": 100,
   "id": "66108a73",
   "metadata": {},
   "outputs": [],
   "source": [
    "df_customers[\"customer_zip_code_prefix\"] = (\n",
    "    df_customers[\"customer_zip_code_prefix\"].astype(str).str.zfill(5)\n",
    ")\n",
    "df_sellers[\"seller_zip_code_prefix\"] = (\n",
    "    df_sellers[\"seller_zip_code_prefix\"].astype(str).str.zfill(5)\n",
    ")\n",
    "df_geo[\"geolocation_zip_code_prefix\"] = (\n",
    "    df_geo[\"geolocation_zip_code_prefix\"].astype(str).str.zfill(5)\n",
    ")\n"
   ]
  },
  {
   "cell_type": "code",
   "execution_count": 101,
   "id": "c91f6323",
   "metadata": {},
   "outputs": [
    {
     "name": "stdout",
     "output_type": "stream",
     "text": [
      "Số lượng zip code match: 14837\n",
      "Ví dụ zip code match: ['91030', '01327', '40252', '78290', '18145', '88490', '74270', '86975', '72306', '05346']\n"
     ]
    }
   ],
   "source": [
    "# Lấy unique zip\n",
    "cust_zips = df_customers[\"customer_zip_code_prefix\"].unique()\n",
    "geo_zips = df_geo[\"geolocation_zip_code_prefix\"].unique()\n",
    "\n",
    "# Kiểm tra giao nhau\n",
    "intersection = set(cust_zips).intersection(set(geo_zips))\n",
    "print(\"Số lượng zip code match:\", len(intersection))\n",
    "\n",
    "# Nếu có match, in thử vài zip\n",
    "print(\"Ví dụ zip code match:\", list(intersection)[:10])\n"
   ]
  },
  {
   "cell_type": "code",
   "execution_count": 94,
   "id": "d7a5625a",
   "metadata": {},
   "outputs": [
    {
     "name": "stdout",
     "output_type": "stream",
     "text": [
      "Customers: object\n",
      "Sellers: object\n",
      "Geolocation: object\n"
     ]
    }
   ],
   "source": [
    "print(\"Customers:\", df_customers[\"customer_zip_code_prefix\"].dtype)\n",
    "print(\"Sellers:\", df_sellers[\"seller_zip_code_prefix\"].dtype)\n",
    "print(\"Geolocation:\", df_geo[\"geolocation_zip_code_prefix\"].dtype)\n"
   ]
  },
  {
   "cell_type": "code",
   "execution_count": 6,
   "id": "19ea49ed",
   "metadata": {},
   "outputs": [
    {
     "name": "stdout",
     "output_type": "stream",
     "text": [
      "customer_id\n",
      "00012a2ce6f8dcda20d059ce98491703    1\n",
      "000161a058600d5901f007fab4c27140    1\n",
      "0001fd6190edaaf884bcaf3d49edf079    1\n",
      "0002414f95344307404f0ace7a26f1d5    1\n",
      "000379cdec625522490c315e70c7a9fb    1\n",
      "0004164d20a9e969af783496f3408652    1\n",
      "000419c5494106c306a97b5635748086    1\n",
      "00046a560d407e99b969756e0b10f282    1\n",
      "00050bf6e01e69d5c0fd612f1bcfb69c    1\n",
      "000598caf2ef4117407665ac33275130    1\n",
      "Name: order_id, dtype: int64\n"
     ]
    }
   ],
   "source": [
    "raw_orders = pd.read_csv(\n",
    "    f\"s3://{MINIO_BUCKET}/raw/olist_orders_dataset.csv\",\n",
    "    storage_options=STORAGE_OPTIONS\n",
    ")\n",
    "print(raw_orders.groupby(\"customer_id\")[\"order_id\"].nunique().sort_values(ascending=False).head(10))\n"
   ]
  },
  {
   "cell_type": "code",
   "execution_count": 7,
   "id": "c7224823",
   "metadata": {},
   "outputs": [
    {
     "name": "stdout",
     "output_type": "stream",
     "text": [
      "(99441, 8)\n",
      "99441\n"
     ]
    }
   ],
   "source": [
    "print(raw_orders.shape)\n",
    "print(raw_orders[\"customer_id\"].nunique())\n"
   ]
  }
 ],
 "metadata": {
  "kernelspec": {
   "display_name": ".venv",
   "language": "python",
   "name": "python3"
  },
  "language_info": {
   "codemirror_mode": {
    "name": "ipython",
    "version": 3
   },
   "file_extension": ".py",
   "mimetype": "text/x-python",
   "name": "python",
   "nbconvert_exporter": "python",
   "pygments_lexer": "ipython3",
   "version": "3.12.3"
  }
 },
 "nbformat": 4,
 "nbformat_minor": 5
}
